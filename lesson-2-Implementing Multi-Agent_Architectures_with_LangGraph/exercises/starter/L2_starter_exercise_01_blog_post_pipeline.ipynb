{
 "cells": [
  {
   "cell_type": "markdown",
   "id": "e70632db",
   "metadata": {},
   "source": [
    "# Exercise - Blog Post Pipeline - STARTER"
   ]
  },
  {
   "cell_type": "markdown",
   "id": "3cc1c6ae",
   "metadata": {},
   "source": [
    "In this exercise, you will implement a proper multi-agent workflow as pipeline using LangGraph to orchestrate the blog creation process, replacing the manual message passing approach."
   ]
  },
  {
   "cell_type": "markdown",
   "id": "ad6e027b",
   "metadata": {},
   "source": [
    "**Challenge**\n",
    "\n",
    "You're building a blog creation system with multiple specialized agents:\n",
    "- Intake Agent: Plans the blog structure\n",
    "- Researcher Agent: Gathers information\n",
    "- Writer Agent: Creates the content\n",
    "- Reviewer Agent: Edits and optimizes\n",
    "- Publisher Agent: Finalizes and publishes"
   ]
  },
  {
   "cell_type": "markdown",
   "id": "0e51d63c",
   "metadata": {},
   "source": [
    "Your solution should create a proper LangGraph workflow that:\n",
    "- Manages state automatically between agents\n",
    "- Eliminates manual message accumulation\n",
    "- Provides a clean, maintainable architecture\n",
    "- Allows for easy workflow modifications"
   ]
  },
  {
   "cell_type": "markdown",
   "id": "92cdf224",
   "metadata": {},
   "source": [
    "## 0. Import the necessary libs"
   ]
  },
  {
   "cell_type": "code",
   "execution_count": null,
   "id": "c88914e1",
   "metadata": {},
   "outputs": [],
   "source": [
    "import os\n",
    "from typing import Dict, Any, List\n",
    "from IPython.display import Image, display\n",
    "from dotenv import load_dotenv\n",
    "from urllib.parse import urlparse\n",
    "from langchain_core.tools import tool\n",
    "from langchain_openai import ChatOpenAI\n",
    "from langchain_core.messages import (\n",
    "    SystemMessage,\n",
    "    HumanMessage,\n",
    "    AIMessage\n",
    ")\n",
    "from langgraph.graph import START, END, StateGraph\n",
    "from langgraph.graph.message import MessagesState\n",
    "from langgraph.prebuilt import ToolNode\n",
    "from langgraph.prebuilt import create_react_agent\n",
    "from langgraph.checkpoint.memory import MemorySaver\n",
    "from tavily import TavilyClient"
   ]
  },
  {
   "cell_type": "code",
   "execution_count": null,
   "id": "8f654d3d",
   "metadata": {},
   "outputs": [],
   "source": [
    "load_dotenv()"
   ]
  },
  {
   "cell_type": "code",
   "execution_count": null,
   "id": "b358223f",
   "metadata": {},
   "outputs": [],
   "source": [
    "llm = ChatOpenAI(\n",
    "    model=\"gpt-4o-mini\",\n",
    "    temperature=0.0,\n",
    "    base_url=\"https://openai.vocareum.com/v1\",\n",
    "    api_key=os.getenv(\"VOCAREUM_API_KEY\")\n",
    ")"
   ]
  },
  {
   "cell_type": "markdown",
   "id": "b34c739e",
   "metadata": {},
   "source": [
    "## 1. Define the state structure for the blog workflow"
   ]
  },
  {
   "cell_type": "markdown",
   "id": "653d5bdf",
   "metadata": {},
   "source": [
    "Create a custom state class that extends \n",
    "MessagesState to include blog-specific fields. This is how an agent communicates with the downstream ones.\n"
   ]
  },
  {
   "cell_type": "code",
   "execution_count": null,
   "id": "85e5ac36",
   "metadata": {},
   "outputs": [],
   "source": [
    "class BlogState(MessagesState):\n",
    "    \"\"\"State for the blog creation workflow.\"\"\"\n",
    "    # TODO: Define the fields"
   ]
  },
  {
   "cell_type": "markdown",
   "id": "3f812e4d",
   "metadata": {},
   "source": [
    "## 2. Create the specialized agents"
   ]
  },
  {
   "cell_type": "markdown",
   "id": "08e8d564",
   "metadata": {},
   "source": [
    "Each agent should have its own tools and system prompt. So, define the tools, agents and their prompt instructions.\n"
   ]
  },
  {
   "cell_type": "code",
   "execution_count": null,
   "id": "0242386c",
   "metadata": {},
   "outputs": [],
   "source": [
    "# TODO: Define the tools\n",
    "@tool\n",
    "def my_tool():\n",
    "    pass"
   ]
  },
  {
   "cell_type": "code",
   "execution_count": null,
   "id": "435a6889",
   "metadata": {},
   "outputs": [],
   "source": [
    "intake_agent = create_react_agent(\n",
    "    # TODO: Implement the agent\n",
    ")"
   ]
  },
  {
   "cell_type": "code",
   "execution_count": null,
   "id": "01e6f81c",
   "metadata": {},
   "outputs": [],
   "source": [
    "researcher_agent = create_react_agent(\n",
    "    # TODO: Implement the agent\n",
    ")"
   ]
  },
  {
   "cell_type": "code",
   "execution_count": null,
   "id": "aa5a648d",
   "metadata": {},
   "outputs": [],
   "source": [
    "writer_agent = create_react_agent(\n",
    "    # TODO: Implement the agent\n",
    ")"
   ]
  },
  {
   "cell_type": "code",
   "execution_count": null,
   "id": "f27c1f5a",
   "metadata": {},
   "outputs": [],
   "source": [
    "reviewer_agent = create_react_agent(\n",
    "    # TODO: Implement the agent\n",
    ")"
   ]
  },
  {
   "cell_type": "code",
   "execution_count": null,
   "id": "2514d6cd",
   "metadata": {},
   "outputs": [],
   "source": [
    "publisher_agent = create_react_agent(\n",
    "    # TODO: Implement the agent\n",
    ")"
   ]
  },
  {
   "cell_type": "markdown",
   "id": "a116d5d4",
   "metadata": {},
   "source": [
    "## 3. Create the workflow nodes that integrate the agents"
   ]
  },
  {
   "cell_type": "markdown",
   "id": "13db5e27",
   "metadata": {},
   "source": [
    "Each node should invoke the corresponding agent and update the state appropriately"
   ]
  },
  {
   "cell_type": "code",
   "execution_count": null,
   "id": "9efbc10f",
   "metadata": {},
   "outputs": [],
   "source": [
    "def intake_node(state: BlogState) -> BlogState:\n",
    "    \"\"\"Node for the intake agent to plan the blog.\"\"\"\n",
    "    # TODO: Define the logic\n",
    "    pass"
   ]
  },
  {
   "cell_type": "code",
   "execution_count": null,
   "id": "44757180",
   "metadata": {},
   "outputs": [],
   "source": [
    "def research_node(state: BlogState) -> BlogState:\n",
    "    \"\"\"Node for the researcher agent to gather information.\"\"\"\n",
    "    # TODO: Define the logic\n",
    "    pass"
   ]
  },
  {
   "cell_type": "code",
   "execution_count": null,
   "id": "1bbe0472",
   "metadata": {},
   "outputs": [],
   "source": [
    "def writer_node(state: BlogState) -> BlogState:\n",
    "    \"\"\"Node for the writer agent to create content.\"\"\"\n",
    "    # TODO: Define the logic\n",
    "    pass"
   ]
  },
  {
   "cell_type": "code",
   "execution_count": null,
   "id": "bdecc73a",
   "metadata": {},
   "outputs": [],
   "source": [
    "def reviewer_node(state: BlogState) -> BlogState:\n",
    "    \"\"\"Node for the reviewer agent to edit and optimize.\"\"\"\n",
    "    # TODO: Define the logic\n",
    "    pass"
   ]
  },
  {
   "cell_type": "code",
   "execution_count": null,
   "id": "1b6f4735",
   "metadata": {},
   "outputs": [],
   "source": [
    "def publisher_node(state: BlogState) -> BlogState:\n",
    "    \"\"\"Node for the publisher agent to finalize and publish.\"\"\"\n",
    "    # TODO: Define the logic\n",
    "    pass"
   ]
  },
  {
   "cell_type": "markdown",
   "id": "0aef1423",
   "metadata": {},
   "source": [
    "## 4. Build the LangGraph workflow"
   ]
  },
  {
   "cell_type": "markdown",
   "id": "431972c9",
   "metadata": {},
   "source": [
    "Create the workflow and add nodes and edges\n"
   ]
  },
  {
   "cell_type": "code",
   "execution_count": null,
   "id": "6dc77edb",
   "metadata": {},
   "outputs": [],
   "source": [
    "workflow = StateGraph(BlogState)"
   ]
  },
  {
   "cell_type": "code",
   "execution_count": null,
   "id": "93b00289",
   "metadata": {},
   "outputs": [],
   "source": [
    "# TODO: Add all the nodes"
   ]
  },
  {
   "cell_type": "code",
   "execution_count": null,
   "id": "9cb3b176",
   "metadata": {},
   "outputs": [],
   "source": [
    "workflow.add_edge(START, \"intake\")\n",
    "\n",
    "# TODO: Define the ramaining workflow edges\n",
    "\n",
    "workflow.add_edge(\"publisher\", END)"
   ]
  },
  {
   "cell_type": "markdown",
   "id": "4e533768",
   "metadata": {},
   "source": [
    "## 5. Compile and test the workflow"
   ]
  },
  {
   "cell_type": "code",
   "execution_count": null,
   "id": "51f3008f",
   "metadata": {},
   "outputs": [],
   "source": [
    "graph = workflow.compile(checkpointer=MemorySaver())"
   ]
  },
  {
   "cell_type": "code",
   "execution_count": null,
   "id": "b6ec4880",
   "metadata": {},
   "outputs": [],
   "source": [
    "display(\n",
    "    Image(\n",
    "        graph.get_graph().draw_mermaid_png()\n",
    "    )\n",
    ")"
   ]
  },
  {
   "cell_type": "code",
   "execution_count": null,
   "id": "b4694969",
   "metadata": {},
   "outputs": [],
   "source": [
    "user_message = HumanMessage(\n",
    "    #TODO: the message as input to your workflow\n",
    "    content = \"\"\n",
    ")\n"
   ]
  },
  {
   "cell_type": "code",
   "execution_count": null,
   "id": "9c00d63a",
   "metadata": {},
   "outputs": [],
   "source": [
    "#TODO: Add all the triggering fields to the input\n",
    "\n",
    "result = graph.invoke(\n",
    "    input={\n",
    "        \"messages\": user_message,\n",
    "    }\n",
    ")"
   ]
  },
  {
   "cell_type": "markdown",
   "id": "d40b6c64",
   "metadata": {},
   "source": [
    "## 6. Verify the workflow execution"
   ]
  },
  {
   "cell_type": "markdown",
   "id": "651d6bc0",
   "metadata": {},
   "source": [
    "Check that the state was properly managed throughout the workflow\n"
   ]
  },
  {
   "cell_type": "code",
   "execution_count": null,
   "id": "d3bc64be",
   "metadata": {},
   "outputs": [],
   "source": []
  }
 ],
 "metadata": {
  "kernelspec": {
   "display_name": "cd14641 (3.11.10)",
   "language": "python",
   "name": "python3"
  },
  "language_info": {
   "name": "python",
   "version": "3.11.10"
  }
 },
 "nbformat": 4,
 "nbformat_minor": 5
}
