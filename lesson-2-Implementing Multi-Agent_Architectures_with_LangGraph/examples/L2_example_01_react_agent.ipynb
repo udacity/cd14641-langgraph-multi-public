{
 "cells": [
  {
   "cell_type": "code",
   "execution_count": 1,
   "id": "ec5a3ba7",
   "metadata": {},
   "outputs": [],
   "source": [
    "import os\n",
    "from typing import Dict, Any\n",
    "from IPython.display import Image, display\n",
    "from dotenv import load_dotenv\n",
    "from langchain_core.tools import tool\n",
    "from langchain_openai import ChatOpenAI\n",
    "from langgraph.graph import START, END, StateGraph\n",
    "from langgraph.graph.message import MessagesState\n",
    "from langgraph.prebuilt import ToolNode\n",
    "from langgraph.prebuilt import create_react_agent\n",
    "from langgraph.checkpoint.memory import MemorySaver\n",
    "from tavily import TavilyClient"
   ]
  },
  {
   "cell_type": "code",
   "execution_count": 2,
   "id": "f63cffa7",
   "metadata": {},
   "outputs": [
    {
     "data": {
      "text/plain": [
       "True"
      ]
     },
     "execution_count": 2,
     "metadata": {},
     "output_type": "execute_result"
    }
   ],
   "source": [
    "load_dotenv()"
   ]
  },
  {
   "cell_type": "code",
   "execution_count": 3,
   "id": "06a893ad",
   "metadata": {},
   "outputs": [],
   "source": [
    "tavily_client = TavilyClient(\n",
    "    api_key=os.getenv(\"TAVILY_API_KEY\")\n",
    ")"
   ]
  },
  {
   "cell_type": "code",
   "execution_count": 4,
   "id": "5de1beb4",
   "metadata": {},
   "outputs": [],
   "source": [
    "@tool\n",
    "def web_search(question:str)->Dict[str, Any]:\n",
    "    \"\"\"\n",
    "    This returns top search results for a given search query\n",
    "    \n",
    "    Args:\n",
    "        question (str): A query to be searched\n",
    "    \n",
    "    Returns:\n",
    "        Dict[str, Any]: A dictionary containing a list of results (url, title, content, score)\n",
    "    \"\"\"\n",
    "    response = tavily_client.search(\n",
    "        query=question,\n",
    "        max_results=5,\n",
    "    )\n",
    "    return response"
   ]
  },
  {
   "cell_type": "code",
   "execution_count": 5,
   "id": "0a27b7d2",
   "metadata": {},
   "outputs": [],
   "source": [
    "message = \"Who voiced Count Dracula in Hotel Transylvania 4?\""
   ]
  },
  {
   "cell_type": "code",
   "execution_count": 6,
   "id": "ed6f3d3a",
   "metadata": {},
   "outputs": [
    {
     "data": {
      "text/plain": [
       "{'query': 'Who voiced Count Dracula in Hotel Transylvania 4?',\n",
       " 'follow_up_questions': None,\n",
       " 'answer': None,\n",
       " 'images': [],\n",
       " 'results': [{'url': 'https://www.voquent.com/blog/hotel-transylvania-4-voice-actors/?srsltid=AfmBOoqc0hWCkuyBV-lkNdKA0KdBL3Y4FUxZHnwJ3qJD5oiiOtybdP3R',\n",
       "   'title': 'Hotel Transylvania 4 Voice Actors - Voquent',\n",
       "   'content': 'Dracula (Brian Hull) · Mavis (Selena Gomez) · Johnny (Andy Samberg) · Frankenstein (Kevin James) · Wayne (Steve Buscemi) · Griffin (David Spade) · Murray (Keegan-',\n",
       "   'score': 0.91901255,\n",
       "   'raw_content': None},\n",
       "  {'url': 'https://screenrant.com/hotel-transylvania-4-voice-cast-character-guide/',\n",
       "   'title': 'Hotel Transylvania 4 Voice Cast: What The Characters Look Like In ...',\n",
       "   'content': 'Brian Hull - Count Dracula ... YouTube personality and impressionist Brian Hull takes over from Adam Sandler in the Hotel Transylvania 4 cast as Count Dracula,',\n",
       "   'score': 0.9049283,\n",
       "   'raw_content': None},\n",
       "  {'url': 'https://en.wikipedia.org/wiki/Hotel_Transylvania:_Transformania',\n",
       "   'title': 'Hotel Transylvania: Transformania - Wikipedia',\n",
       "   'content': '***Hotel Transylvania: Transformania*** is a 2022 American animated monster comedy film directed by Derek Drymon and Jennifer Kluska and written by Amos Vernon, Nunzio Randazzo, and Genndy Tartakovsky. Produced by Sony Pictures Animation, it is the fourth installment in the *Hotel Transylvania* franchise, and stars the voices of Andy Samberg, Selena Gomez, Kathryn Hahn, Jim Gaffigan, Steve Buscemi, Molly Shannon, David Spade, Keegan-Michael Key, Brian Hull, Fran Drescher, Brad Abrell, Asher Blinkoff, Tyler \"Ninja\" Blevins and Zoe Berri. In February 2019, Sony Pictures Animation announced that a fourth *Hotel Transylvania* film was in development. On October 6, 2021, Amazon confirmed the release date as January 14, 2022, coinciding with the tenth anniversary of the original *Hotel Transylvania* film. * 2022 films',\n",
       "   'score': 0.885404,\n",
       "   'raw_content': None},\n",
       "  {'url': 'https://www.thewrap.com/hotel-transylvania-4-transformania-cast-characters-who-voices-drac/',\n",
       "   'title': 'Hotel Transylvania Transformania Cast and Character Guide',\n",
       "   'content': 'Jan 14, 2022·Count Dracula (Brian Hull). Originally voiced by Adam Sandler in the first three films, Count “Drac” Dracula runs a prestigious hotel for',\n",
       "   'score': 0.81630427,\n",
       "   'raw_content': None},\n",
       "  {'url': 'https://screenrant.com/who-plays-dracula-in-hotel-transylvania/',\n",
       "   'title': 'Who Plays Dracula In Hotel Transylvania (& Why It Changed)',\n",
       "   'content': \"# Who Plays Dracula In Hotel Transylvania (& Why It Changed) ## Adam Sandler Plays Dracula In Hotel Transylvania 1-3 For the first three *Hotel Transylvania* movies, Adam Sandler was at the forefront of the voice cast, playing the monsters-only hotel founder Count Dracula. That's why it was so surprising when Sandler stepped away from the Dracula role ahead of the fourth installment, *Hotel Transylvania: Transformania,* and opted to star in Netflix films instead. ## Brian Hull Replaced Adam Sandler In Hotel Transylvania When Adam Sandler left *Hotel Transylvania*, Sony’s search for the new Dracula led them to Brian Hull. But as expected, without Adam Sandler, ***Hotel Transylvania*** received even more mixed reviews, with some of the criticism aimed at the franchise's Dracula switch.\",\n",
       "   'score': 0.81595254,\n",
       "   'raw_content': None}],\n",
       " 'response_time': 1.39,\n",
       " 'request_id': 'd1c2808b-b8c1-4833-a3c3-73228f505b3d'}"
      ]
     },
     "execution_count": 6,
     "metadata": {},
     "output_type": "execute_result"
    }
   ],
   "source": [
    "web_search.invoke(\n",
    "    {\n",
    "        \"question\": message\n",
    "    }\n",
    ")"
   ]
  },
  {
   "cell_type": "code",
   "execution_count": 7,
   "id": "2aef06db",
   "metadata": {},
   "outputs": [],
   "source": [
    "tools = [web_search]"
   ]
  },
  {
   "cell_type": "code",
   "execution_count": 8,
   "id": "c7876ef3",
   "metadata": {},
   "outputs": [],
   "source": [
    "llm = ChatOpenAI(\n",
    "    model=\"gpt-4o-mini\",\n",
    "    temperature=0.0,\n",
    "    base_url=\"https://openai.vocareum.com/v1\",\n",
    "    api_key=os.getenv(\"VOCAREUM_API_KEY\")\n",
    ")"
   ]
  },
  {
   "cell_type": "markdown",
   "id": "cf460bf6",
   "metadata": {},
   "source": [
    "## LLM with tools"
   ]
  },
  {
   "cell_type": "code",
   "execution_count": 9,
   "id": "411a43c7",
   "metadata": {},
   "outputs": [],
   "source": [
    "llm_with_tools = llm.bind_tools(tools)"
   ]
  },
  {
   "cell_type": "code",
   "execution_count": 10,
   "id": "fa682f0e",
   "metadata": {},
   "outputs": [
    {
     "data": {
      "text/plain": [
       "AIMessage(content='', additional_kwargs={'tool_calls': [{'id': 'call_F7y6zxkZDlOpCjTl8YXVd10d', 'function': {'arguments': '{\"question\":\"Count Dracula voice actor Hotel Transylvania 4\"}', 'name': 'web_search'}, 'type': 'function'}], 'refusal': None}, response_metadata={'token_usage': {'completion_tokens': 22, 'prompt_tokens': 96, 'total_tokens': 118, 'completion_tokens_details': {'accepted_prediction_tokens': 0, 'audio_tokens': 0, 'reasoning_tokens': 0, 'rejected_prediction_tokens': 0}, 'prompt_tokens_details': {'audio_tokens': 0, 'cached_tokens': 0}}, 'model_name': 'gpt-4o-mini-2024-07-18', 'system_fingerprint': 'fp_560af6e559', 'id': 'chatcmpl-C9KRjkY8m7iAfsIfULvtEF0laMdHn', 'service_tier': 'default', 'finish_reason': 'tool_calls', 'logprobs': None}, id='run--e5c0c03e-0b82-4cf7-854d-bc3167d4abbd-0', tool_calls=[{'name': 'web_search', 'args': {'question': 'Count Dracula voice actor Hotel Transylvania 4'}, 'id': 'call_F7y6zxkZDlOpCjTl8YXVd10d', 'type': 'tool_call'}], usage_metadata={'input_tokens': 96, 'output_tokens': 22, 'total_tokens': 118, 'input_token_details': {'audio': 0, 'cache_read': 0}, 'output_token_details': {'audio': 0, 'reasoning': 0}})"
      ]
     },
     "execution_count": 10,
     "metadata": {},
     "output_type": "execute_result"
    }
   ],
   "source": [
    "llm_with_tools.invoke(message)"
   ]
  },
  {
   "cell_type": "markdown",
   "id": "ffc6d26e",
   "metadata": {},
   "source": [
    "## Graph from Scratch"
   ]
  },
  {
   "cell_type": "code",
   "execution_count": 11,
   "id": "87d62f17",
   "metadata": {},
   "outputs": [],
   "source": [
    "def agent(state: MessagesState):\n",
    "    ai_message = llm_with_tools.invoke(state[\"messages\"])\n",
    "    return {\"messages\": ai_message}"
   ]
  },
  {
   "cell_type": "code",
   "execution_count": 12,
   "id": "32557888",
   "metadata": {},
   "outputs": [],
   "source": [
    "def should_call_tool(state: MessagesState):\n",
    "    last_message = state[\"messages\"][-1]\n",
    "    if last_message.tool_calls:\n",
    "        return \"tools\"\n",
    "\n",
    "    return END"
   ]
  },
  {
   "cell_type": "code",
   "execution_count": 13,
   "id": "21d3699c",
   "metadata": {},
   "outputs": [
    {
     "data": {
      "text/plain": [
       "<langgraph.graph.state.StateGraph at 0x10d64ce10>"
      ]
     },
     "execution_count": 13,
     "metadata": {},
     "output_type": "execute_result"
    }
   ],
   "source": [
    "workflow = StateGraph(MessagesState)\n",
    "\n",
    "workflow.add_node(\"agent\", agent)\n",
    "workflow.add_node(\"tools\", ToolNode(tools))\n",
    "\n",
    "workflow.add_edge(START, \"agent\")\n",
    "\n",
    "workflow.add_conditional_edges(\n",
    "    source=\"agent\", \n",
    "    path=should_call_tool, \n",
    "    path_map=[\"tools\", END]\n",
    ")\n",
    "\n",
    "workflow.add_edge(\"tools\", \"agent\")\n"
   ]
  },
  {
   "cell_type": "code",
   "execution_count": 14,
   "id": "8e9925ec",
   "metadata": {},
   "outputs": [],
   "source": [
    "graph = workflow.compile()"
   ]
  },
  {
   "cell_type": "code",
   "execution_count": 15,
   "id": "373dd33e",
   "metadata": {},
   "outputs": [
    {
     "data": {
      "text/plain": [
       "langgraph.graph.state.CompiledStateGraph"
      ]
     },
     "execution_count": 15,
     "metadata": {},
     "output_type": "execute_result"
    }
   ],
   "source": [
    "type(graph)"
   ]
  },
  {
   "cell_type": "code",
   "execution_count": 16,
   "id": "f5a5a6eb",
   "metadata": {},
   "outputs": [
    {
     "data": {
      "image/png": "[encoded data removed]",
      "text/plain": [
       "<IPython.core.display.Image object>"
      ]
     },
     "metadata": {},
     "output_type": "display_data"
    }
   ],
   "source": [
    "display(\n",
    "    Image(\n",
    "        graph.get_graph().draw_mermaid_png()\n",
    "    )\n",
    ")"
   ]
  },
  {
   "cell_type": "code",
   "execution_count": 17,
   "id": "c553b9fd",
   "metadata": {},
   "outputs": [],
   "source": [
    "result = graph.invoke(\n",
    "    input={\n",
    "        \"messages\": message\n",
    "    }\n",
    ")"
   ]
  },
  {
   "cell_type": "code",
   "execution_count": 18,
   "id": "af82698a",
   "metadata": {},
   "outputs": [
    {
     "name": "stdout",
     "output_type": "stream",
     "text": [
      "================================\u001b[1m Human Message \u001b[0m=================================\n",
      "\n",
      "Who voiced Count Dracula in Hotel Transylvania 4?\n",
      "==================================\u001b[1m Ai Message \u001b[0m==================================\n",
      "Tool Calls:\n",
      "  web_search (call_bYC8MlYOTObinrNQaGjAE6zm)\n",
      " Call ID: call_bYC8MlYOTObinrNQaGjAE6zm\n",
      "  Args:\n",
      "    question: Count Dracula voice actor Hotel Transylvania 4\n",
      "=================================\u001b[1m Tool Message \u001b[0m=================================\n",
      "Name: web_search\n",
      "\n",
      "{\"query\": \"Count Dracula voice actor Hotel Transylvania 4\", \"follow_up_questions\": null, \"answer\": null, \"images\": [], \"results\": [{\"url\": \"https://www.voquent.com/blog/hotel-transylvania-4-voice-actors/\", \"title\": \"Hotel Transylvania 4 Voice Actors - Voquent\", \"content\": \"Brian Hull , who voices the fatherly vampire, is an impressionist, a voice actor, and a popular YouTuber with more than 361 million views and 2.3 million subscribers. Voicing Dracula, he replaced the actor Adam Sandler, who gave Dracula his voice in the first three parts of the Hotel Transylvania franchise.\", \"score\": 0.9020676, \"raw_content\": null}, {\"url\": \"https://screenrant.com/hotel-transylvania-4-voice-cast-character-guide/\", \"title\": \"Hotel Transylvania 4 Voice Cast: What The Characters Look Like In ...\", \"content\": \"Brian Hull - Count Dracula ... YouTube personality and impressionist Brian Hull takes over from Adam Sandler in the Hotel Transylvania 4 cast as Count Dracula,\", \"score\": 0.8757978, \"raw_content\": null}, {\"url\": \"https://screenrant.com/who-plays-dracula-in-hotel-transylvania/\", \"title\": \"Who Plays Dracula In Hotel Transylvania (& Why It Changed)\", \"content\": \"# Who Plays Dracula In Hotel Transylvania (& Why It Changed) ## Adam Sandler Plays Dracula In Hotel Transylvania 1-3 For the first three *Hotel Transylvania* movies, Adam Sandler was at the forefront of the voice cast, playing the monsters-only hotel founder Count Dracula. That's why it was so surprising when Sandler stepped away from the Dracula role ahead of the fourth installment, *Hotel Transylvania: Transformania,* and opted to star in Netflix films instead. ## Brian Hull Replaced Adam Sandler In Hotel Transylvania When Adam Sandler left *Hotel Transylvania*, Sony’s search for the new Dracula led them to Brian Hull. But as expected, without Adam Sandler, ***Hotel Transylvania*** received even more mixed reviews, with some of the criticism aimed at the franchise's Dracula switch.\", \"score\": 0.7978881, \"raw_content\": null}, {\"url\": \"https://en.wikipedia.org/wiki/Hotel_Transylvania:_Transformania\", \"title\": \"Hotel Transylvania: Transformania - Wikipedia\", \"content\": \"Voice cast Brian Hull as Count \\\"Drac\\\" Dracula, the founder of Hotel Transylvania and Mavis's father, Johnny's father-in-law, Dennis' maternal grandfather and\", \"score\": 0.79254496, \"raw_content\": null}, {\"url\": \"https://www.imdb.com/title/tt9848626/\", \"title\": \"Hotel Transylvania 4: Transformania (2022) - IMDb\", \"content\": \"Reviewers say 'Hotel Transylvania 4' garnered mixed reactions, with praise for animation and humor but criticism for plot, character development, and voice acting changes. You may not like Sandler personally, I don't know, but he had the spirit of the Hotel Transilvania series in his voice. Hotel Transylvania (2012): A really funny movie that has great voice acting, a funny story, and nice animation. Hotel Transylvania 3: Summer Vacation (2018): I know this entry in the series was a little strange, but I still liked it and thought it was really entertaining. The only original actors that are involved in all four Hotel Transylvania films are Selena Gomez, Andy Samberg, Steve Buscemi, David Spade, Fran Drescher and Molly Shannon.\", \"score\": 0.77548623, \"raw_content\": null}], \"response_time\": 1.22, \"request_id\": \"f83fb577-4d25-49d1-a02b-8507043d8e10\"}\n",
      "==================================\u001b[1m Ai Message \u001b[0m==================================\n",
      "\n",
      "In \"Hotel Transylvania 4,\" titled \"Hotel Transylvania: Transformania,\" Count Dracula is voiced by Brian Hull. He replaced Adam Sandler, who voiced Dracula in the first three films of the franchise.\n"
     ]
    }
   ],
   "source": [
    "for message in result[\"messages\"]:\n",
    "    message.pretty_print()"
   ]
  },
  {
   "cell_type": "markdown",
   "id": "a3c93cc0",
   "metadata": {},
   "source": [
    "## Prebuilt"
   ]
  },
  {
   "cell_type": "code",
   "execution_count": 19,
   "id": "8f717a8a",
   "metadata": {},
   "outputs": [],
   "source": [
    "agent = create_react_agent(\n",
    "    name=\"researcher_agent\",\n",
    "    model=llm,\n",
    "    tools=tools,\n",
    ")"
   ]
  },
  {
   "cell_type": "code",
   "execution_count": 20,
   "id": "65f18b50",
   "metadata": {},
   "outputs": [
    {
     "data": {
      "text/plain": [
       "langgraph.graph.state.CompiledStateGraph"
      ]
     },
     "execution_count": 20,
     "metadata": {},
     "output_type": "execute_result"
    }
   ],
   "source": [
    "type(agent)"
   ]
  },
  {
   "cell_type": "code",
   "execution_count": 21,
   "id": "58e0f918",
   "metadata": {},
   "outputs": [
    {
     "data": {
      "image/png": "[encoded data removed]",
      "text/plain": [
       "<IPython.core.display.Image object>"
      ]
     },
     "metadata": {},
     "output_type": "display_data"
    }
   ],
   "source": [
    "display(\n",
    "    Image(\n",
    "        agent.get_graph().draw_mermaid_png()\n",
    "    )\n",
    ")"
   ]
  },
  {
   "cell_type": "code",
   "execution_count": 22,
   "id": "5e9a1e00",
   "metadata": {},
   "outputs": [],
   "source": [
    "result = agent.invoke(\n",
    "    input={\n",
    "        \"messages\": message\n",
    "    }\n",
    ")"
   ]
  },
  {
   "cell_type": "code",
   "execution_count": 23,
   "id": "42fe21fc",
   "metadata": {},
   "outputs": [
    {
     "name": "stdout",
     "output_type": "stream",
     "text": [
      "==================================\u001b[1m Ai Message \u001b[0m==================================\n",
      "\n",
      "In \"Hotel Transylvania 4,\" titled \"Hotel Transylvania: Transformania,\" Count Dracula is voiced by Brian Hull. He replaced Adam Sandler, who voiced Dracula in the first three films of the franchise.\n",
      "==================================\u001b[1m Ai Message \u001b[0m==================================\n",
      "Name: researcher_agent\n",
      "Tool Calls:\n",
      "  web_search (call_cJZHulicCSRIrydVBA9kJdPL)\n",
      " Call ID: call_cJZHulicCSRIrydVBA9kJdPL\n",
      "  Args:\n",
      "    question: Hotel Transylvania 4 Dracula voice actor\n",
      "=================================\u001b[1m Tool Message \u001b[0m=================================\n",
      "Name: web_search\n",
      "\n",
      "{\"query\": \"Hotel Transylvania 4 Dracula voice actor\", \"follow_up_questions\": null, \"answer\": null, \"images\": [], \"results\": [{\"url\": \"https://www.voquent.com/blog/hotel-transylvania-4-voice-actors/?srsltid=AfmBOoqtuoDYj2fOKCnFD3z5_q4iswDL4Rv20UNRtWm7MlLlg-Y4tMFF\", \"title\": \"Hotel Transylvania 4 Voice Actors - Voquent\", \"content\": \"Dracula (Brian Hull) · Mavis (Selena Gomez) · Johnny (Andy Samberg) · Frankenstein (Kevin James) · Wayne (Steve Buscemi) · Griffin (David Spade) · Murray (Keegan-\", \"score\": 0.9145431, \"raw_content\": null}, {\"url\": \"https://screenrant.com/hotel-transylvania-4-voice-cast-character-guide/\", \"title\": \"Hotel Transylvania 4 Voice Cast: What The Characters Look Like In ...\", \"content\": \"Brian Hull - Count Dracula ... YouTube personality and impressionist Brian Hull takes over from Adam Sandler in the Hotel Transylvania 4 cast as Count Dracula,\", \"score\": 0.87113565, \"raw_content\": null}, {\"url\": \"https://www.behindthevoiceactors.com/movies/Hotel-Transylvania-Transformania/\", \"title\": \"Hotel Transylvania: Transformania (2022) - Behind The Voice Actors\", \"content\": \"Dracula voice Dracula voiced by Brian Hull ; Mavis voice Mavis voiced by Selena Gomez ; Jonathan voice Jonathan voiced by Andy Samberg\", \"score\": 0.8703443, \"raw_content\": null}, {\"url\": \"https://en.wikipedia.org/wiki/Hotel_Transylvania:_Transformania\", \"title\": \"Hotel Transylvania: Transformania - Wikipedia\", \"content\": \"Voice cast Brian Hull as Count \\\"Drac\\\" Dracula, the founder of Hotel Transylvania and Mavis's father, Johnny's father-in-law, Dennis' maternal grandfather and\", \"score\": 0.8506799, \"raw_content\": null}, {\"url\": \"https://www.reddit.com/r/tumblr/comments/15w99hf/id_say_adam_sandler_being_the_voice_actor_may/\", \"title\": \"I'd say Adam Sandler being the voice actor may have something to ...\", \"content\": \"You are now re-imaging Hotel Transylvania with this Dracula, voiced by Christopher Lee.\", \"score\": 0.8446273, \"raw_content\": null}], \"response_time\": 0.91, \"request_id\": \"0ad9b6ce-dd55-4126-a85e-f7bb5d20bf21\"}\n",
      "==================================\u001b[1m Ai Message \u001b[0m==================================\n",
      "Name: researcher_agent\n",
      "\n",
      "In \"Hotel Transylvania 4,\" titled \"Hotel Transylvania: Transformania,\" Count Dracula is voiced by **Brian Hull**. He takes over the role from Adam Sandler, who voiced Dracula in the first three films of the franchise. \n",
      "\n",
      "For more details, you can check the following sources:\n",
      "- [Voquent](https://www.voquent.com/blog/hotel-transylvania-4-voice-actors/?srsltid=AfmBOoqtuoDYj2fOKCnFD3z5_q4iswDL4Rv20UNRtWm7MlLlg-Y4tMFF)\n",
      "- [Screen Rant](https://screenrant.com/hotel-transylvania-4-voice-cast-character-guide/)\n",
      "- [Wikipedia](https://en.wikipedia.org/wiki/Hotel_Transylvania:_Transformania)\n"
     ]
    }
   ],
   "source": [
    "for message in result[\"messages\"]:\n",
    "    message.pretty_print()"
   ]
  },
  {
   "cell_type": "code",
   "execution_count": null,
   "id": "cc93fe27",
   "metadata": {},
   "outputs": [],
   "source": []
  }
 ],
 "metadata": {
  "kernelspec": {
   "display_name": "cd14641 (3.11.10)",
   "language": "python",
   "name": "python3"
  },
  "language_info": {
   "codemirror_mode": {
    "name": "ipython",
    "version": 3
   },
   "file_extension": ".py",
   "mimetype": "text/x-python",
   "name": "python",
   "nbconvert_exporter": "python",
   "pygments_lexer": "ipython3",
   "version": "3.11.10"
  }
 },
 "nbformat": 4,
 "nbformat_minor": 5
}
