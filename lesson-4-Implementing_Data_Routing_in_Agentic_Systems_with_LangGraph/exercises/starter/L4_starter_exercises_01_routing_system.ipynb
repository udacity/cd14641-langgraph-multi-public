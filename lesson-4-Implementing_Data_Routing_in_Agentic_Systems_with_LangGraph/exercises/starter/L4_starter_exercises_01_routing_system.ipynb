{
 "cells": [
  {
   "cell_type": "markdown",
   "id": "a5ee182b",
   "metadata": {},
   "source": [
    "# Exercise - Smart Routing System - SOLUTION"
   ]
  },
  {
   "cell_type": "markdown",
   "id": "d0f74a0b",
   "metadata": {},
   "source": [
    "In this exercise, you will implement a comprehensive routing system that combines all three routing patterns we learned:\n",
    "1. **Priority-Based Routing** - Assess urgency first\n",
    "2. **Content-Based Routing** - Route to appropriate team based on topic\n",
    "3. **Round-Robin Routing** - Distribute work evenly within each team\n"
   ]
  },
  {
   "cell_type": "markdown",
   "id": "0067aed3",
   "metadata": {},
   "source": [
    "**Challenge**\n",
    "\n",
    "You're building a customer support system for **FinTechCorp**, a financial technology company. The system needs to intelligently route customer inquiries to the right team and agent.\n"
   ]
  },
  {
   "cell_type": "markdown",
   "id": "59385b8c",
   "metadata": {},
   "source": [
    "Your solution should:\n",
    "1. **First**: Classify urgency (urgent vs. normal)\n",
    "2. **Second**: Classify topic (credit_card, account, loan, general)\n",
    "3. **Third**: Route to appropriate team\n",
    "4. **Fourth**: Use round-robin to assign to available agents within that team"
   ]
  },
  {
   "cell_type": "markdown",
   "id": "2586469c",
   "metadata": {},
   "source": [
    "**Teams & Specializations:**\n",
    "- **General Support Team**: Basic product questions, account setup, general inquiries\n",
    "- **Credit Card Team**: Credit card issues, disputes, fraud, rewards\n",
    "- **Account Team**: Account access, security, verification, settings\n",
    "- **Loan Team**: Loan applications, payments, refinancing, documentation\n"
   ]
  },
  {
   "cell_type": "markdown",
   "id": "6572ec8f",
   "metadata": {},
   "source": [
    "## 0. Setup"
   ]
  },
  {
   "cell_type": "code",
   "execution_count": 1,
   "id": "c540661a",
   "metadata": {},
   "outputs": [],
   "source": [
    "import os\n",
    "from typing import Dict, Any, List, Literal\n",
    "from IPython.display import Image, display\n",
    "from pydantic import BaseModel, Field\n",
    "from dotenv import load_dotenv\n",
    "from langchain_core.tools import tool\n",
    "from langchain_openai import ChatOpenAI\n",
    "from langchain_core.messages import SystemMessage, HumanMessage, AIMessage\n",
    "from langchain_core.prompts import ChatPromptTemplate\n",
    "from langchain_core.runnables import RunnableConfig\n",
    "from langgraph.graph import START, END, StateGraph\n",
    "from langgraph.graph.message import MessagesState\n",
    "from langgraph.graph.state import CompiledStateGraph\n",
    "from langgraph.checkpoint.memory import MemorySaver\n",
    "from langgraph.prebuilt import create_react_agent"
   ]
  },
  {
   "cell_type": "code",
   "execution_count": 2,
   "id": "df862d8f",
   "metadata": {},
   "outputs": [
    {
     "data": {
      "text/plain": [
       "True"
      ]
     },
     "execution_count": 2,
     "metadata": {},
     "output_type": "execute_result"
    }
   ],
   "source": [
    "load_dotenv()"
   ]
  },
  {
   "cell_type": "code",
   "execution_count": 3,
   "id": "ca82e7e9",
   "metadata": {},
   "outputs": [],
   "source": [
    "llm = ChatOpenAI(\n",
    "    model=\"gpt-4o-mini\",\n",
    "    temperature=0.0,\n",
    "    base_url=\"https://openai.vocareum.com/v1\",\n",
    "    api_key=os.getenv(\"VOCAREUM_API_KEY\")\n",
    ")"
   ]
  },
  {
   "cell_type": "markdown",
   "id": "62d988e9",
   "metadata": {},
   "source": [
    "## 1. Classification functions"
   ]
  },
  {
   "cell_type": "markdown",
   "id": "70842829",
   "metadata": {},
   "source": [
    "Create classification functions that determine the urgency and topic of customer inquiries. These functions will be used to route messages to the appropriate teams."
   ]
  },
  {
   "cell_type": "code",
   "execution_count": null,
   "id": "f118b6e2",
   "metadata": {},
   "outputs": [],
   "source": [
    "# TODO: Create UrgencyClassification model\n",
    "# that classifies messages as \"urgent\" or \"normal\"\n",
    "# Field: urgency\n",
    "class UrgencyClassification(BaseModel):\n",
    "    pass"
   ]
  },
  {
   "cell_type": "code",
   "execution_count": null,
   "id": "fd28f616",
   "metadata": {},
   "outputs": [],
   "source": [
    "# TODO: Create TopicClassification model\n",
    "#  that classifies messages into categories: \n",
    "# \"credit_card\", \"account\", \"loan\", or \"general\" \n",
    "# based on content analysis.\n",
    "# Field: topic\n",
    "class TopicClassification(BaseModel):\n",
    "    pass"
   ]
  },
  {
   "cell_type": "code",
   "execution_count": null,
   "id": "fc3aa12d",
   "metadata": {},
   "outputs": [],
   "source": [
    "# TODO: Implement urgency classification\n",
    "# using with_structured_output method\n",
    "def classify_urgency(text: str) -> str:\n",
    "    \"\"\"Classify the urgency level of a customer inquiry.\"\"\"\n",
    "    pass"
   ]
  },
  {
   "cell_type": "code",
   "execution_count": null,
   "id": "65d424c1",
   "metadata": {},
   "outputs": [],
   "source": [
    "# TODO: Implement urgency classification\n",
    "# using with_structured_output method\n",
    "def classify_topic(text: str) -> str:\n",
    "    \"\"\"Classify the topic/category of a customer inquiry.\"\"\"\n",
    "    pass"
   ]
  },
  {
   "cell_type": "markdown",
   "id": "bb3d5206",
   "metadata": {},
   "source": [
    "## 2. Agent Pools"
   ]
  },
  {
   "cell_type": "markdown",
   "id": "4e530c4d",
   "metadata": {},
   "source": [
    "Create specialized agent pools for each support team. Each team should have multiple agents to enable round-robin distribution."
   ]
  },
  {
   "cell_type": "code",
   "execution_count": 8,
   "id": "08946537",
   "metadata": {},
   "outputs": [],
   "source": [
    "# General Support Team (3 agents)\n",
    "general_agents_pool = [\n",
    "    create_react_agent(\n",
    "        name=f\"general_agent_{i}\",\n",
    "        prompt=SystemMessage(\n",
    "            content=(\n",
    "                f\"You are General Support Agent {i} at FinTechCorp. \"\n",
    "                \"Handle basic product questions, account setup, and general inquiries. \"\n",
    "                \"ALWAYS start with '[GENERAL SUPPORT]' and be helpful!\"\n",
    "            )\n",
    "        ),\n",
    "        model=llm,\n",
    "        tools=[],\n",
    "    ) for i in range(1, 4)\n",
    "]"
   ]
  },
  {
   "cell_type": "code",
   "execution_count": 9,
   "id": "29542541",
   "metadata": {},
   "outputs": [],
   "source": [
    "# Credit Card Team (2 agents)  \n",
    "credit_card_agents_pool = [\n",
    "    create_react_agent(\n",
    "        name=f\"credit_card_agent_{i}\",\n",
    "        prompt=SystemMessage(\n",
    "            content=(\n",
    "                f\"You are Credit Card Specialist {i} at FinTechCorp. \"\n",
    "                \"Handle credit card issues, disputes, fraud, and rewards. \"\n",
    "                \"ALWAYS start with '[CREDIT CARD]' and be professional!\"\n",
    "            )\n",
    "        ),\n",
    "        model=llm,\n",
    "        tools=[],\n",
    "    ) for i in range(1, 3)\n",
    "]"
   ]
  },
  {
   "cell_type": "code",
   "execution_count": 10,
   "id": "702a28d0",
   "metadata": {},
   "outputs": [],
   "source": [
    "# Account Team (2 agents)\n",
    "account_agents_pool = [\n",
    "    create_react_agent(\n",
    "        name=f\"account_agent_{i}\",\n",
    "        prompt=SystemMessage(\n",
    "            content=(\n",
    "                f\"You are Account Specialist {i} at FinTechCorp. \"\n",
    "                \"Handle account access, security, verification, and settings. \"\n",
    "                \"ALWAYS start with '[ACCOUNT]' and be security-focused!\"\n",
    "            )\n",
    "        ),\n",
    "        model=llm,\n",
    "        tools=[],\n",
    "    ) for i in range(1, 3)\n",
    "]"
   ]
  },
  {
   "cell_type": "code",
   "execution_count": 11,
   "id": "f381bc62",
   "metadata": {},
   "outputs": [],
   "source": [
    "# Loan Team (2 agents)\n",
    "loan_agents_pool = [\n",
    "    create_react_agent(\n",
    "        name=f\"loan_agent_{i}\",\n",
    "        prompt=SystemMessage(\n",
    "            content=(\n",
    "                f\"You are Loan Specialist {i} at FinTechCorp. \"\n",
    "                \"Handle loan applications, payments, refinancing, and documentation. \"\n",
    "                \"ALWAYS start with '[LOAN]' and be thorough!\"\n",
    "            )\n",
    "        ),\n",
    "        model=llm,\n",
    "        tools=[],\n",
    "    ) for i in range(1, 3)\n",
    "]"
   ]
  },
  {
   "cell_type": "code",
   "execution_count": null,
   "id": "470ae541",
   "metadata": {},
   "outputs": [],
   "source": [
    "# TODO: Create a dictionary mapping team names to their respective agent pools.\n",
    "agent_swarm_map = {}"
   ]
  },
  {
   "cell_type": "markdown",
   "id": "cd1c9df7",
   "metadata": {},
   "source": [
    "## 3. Round-robin: Team Subgraphs"
   ]
  },
  {
   "cell_type": "markdown",
   "id": "1f035bf3",
   "metadata": {},
   "source": [
    "Implement round-robin routing within each team to distribute work evenly among available agents."
   ]
  },
  {
   "cell_type": "code",
   "execution_count": 13,
   "id": "f4a92ccf",
   "metadata": {},
   "outputs": [],
   "source": [
    "class RoundRobinState(MessagesState):\n",
    "    \"\"\"State that tracks which agent to call next.\"\"\"\n",
    "    agent_names: List[str]\n",
    "    current_agent_index: int"
   ]
  },
  {
   "cell_type": "code",
   "execution_count": 14,
   "id": "68151a8a",
   "metadata": {},
   "outputs": [],
   "source": [
    "def update_index(state: RoundRobinState):\n",
    "    agent_names = state[\"agent_names\"]\n",
    "    current_agent_index = state.get(\"current_agent_index\", 0)\n",
    "    new_agent_index = current_agent_index + 1  \n",
    "    new_agent_index_in_range = new_agent_index % len(agent_names)\n",
    "    return {\n",
    "        \"current_agent_index\": new_agent_index_in_range\n",
    "    }"
   ]
  },
  {
   "cell_type": "code",
   "execution_count": 15,
   "id": "91f6557f",
   "metadata": {},
   "outputs": [],
   "source": [
    "def route_round_robin(state: RoundRobinState):\n",
    "    \"\"\"Route tasks in round-robin fashion.\"\"\"\n",
    "    agent_names = state[\"agent_names\"]\n",
    "    current_agent_index = state.get(\"current_agent_index\", 0)\n",
    "    current_agent_index_in_range = current_agent_index % len(agent_names)\n",
    "    active_agent = agent_names[current_agent_index_in_range]\n",
    "    print(\"Round-robin Active Agent:\", active_agent)\n",
    "    return active_agent"
   ]
  },
  {
   "cell_type": "code",
   "execution_count": 16,
   "id": "ace846b3",
   "metadata": {},
   "outputs": [],
   "source": [
    "def create_team(name:str, agent_pool:List[CompiledStateGraph]):\n",
    "    workflow = StateGraph(RoundRobinState)\n",
    "\n",
    "    workflow.add_node(\"update_index\", update_index)\n",
    "    for agent in agent_pool:\n",
    "        workflow.add_node(agent.name, agent)\n",
    "\n",
    "    workflow.add_edge(START, \"update_index\")\n",
    "\n",
    "    workflow.add_conditional_edges(\n",
    "        source=\"update_index\",\n",
    "        path=route_round_robin,\n",
    "        path_map=[agent.name for agent in agent_pool]\n",
    "    )\n",
    "\n",
    "    graph = workflow.compile(name=name, checkpointer=MemorySaver())\n",
    "\n",
    "    return graph"
   ]
  },
  {
   "cell_type": "code",
   "execution_count": null,
   "id": "e2208b69",
   "metadata": {},
   "outputs": [],
   "source": [
    "# TODO: Create all team subgraphs using the create_team function.\n",
    "agent_teams = []"
   ]
  },
  {
   "cell_type": "code",
   "execution_count": 18,
   "id": "d9cf6c9a",
   "metadata": {},
   "outputs": [
    {
     "data": {
      "image/png": "[encoded data removed]",
      "text/plain": [
       "<langgraph.graph.state.CompiledStateGraph object at 0x10c403c10>"
      ]
     },
     "execution_count": 18,
     "metadata": {},
     "output_type": "execute_result"
    }
   ],
   "source": [
    "agent_teams[0]"
   ]
  },
  {
   "cell_type": "markdown",
   "id": "387f1374",
   "metadata": {},
   "source": [
    "## 4. Workflow Assembly"
   ]
  },
  {
   "cell_type": "markdown",
   "id": "ee1ef7db",
   "metadata": {},
   "source": [
    "Assemble the complete routing workflow that combines urgency classification, topic classification, and team routing."
   ]
  },
  {
   "cell_type": "code",
   "execution_count": 19,
   "id": "7835d0fe",
   "metadata": {},
   "outputs": [],
   "source": [
    "class FintechState(MessagesState):\n",
    "    \"\"\"State that tracks which team to call next within each team.\"\"\"\n",
    "    query: str\n",
    "    agent_teams: List[CompiledStateGraph]\n",
    "    agent_swarm_map: Dict[str, CompiledStateGraph]\n",
    "    team_to_call: str"
   ]
  },
  {
   "cell_type": "code",
   "execution_count": null,
   "id": "b5875aa0",
   "metadata": {},
   "outputs": [],
   "source": [
    "def define_agent_team(state: FintechState):\n",
    "    query = state[\"query\"]\n",
    "    \n",
    "    # TODO: classify urgency\n",
    "    urgency = ...\n",
    "    \n",
    "    # TODO: Then classify topic\n",
    "    topic = ...\n",
    "    \n",
    "    # Define based on urgency + topic combination\n",
    "    if urgency == \"urgent\":\n",
    "        # Urgent issues go to specialized teams\n",
    "        if topic == \"credit_card\":\n",
    "            return {\"team_to_call\": \"credit_card_team\"}\n",
    "        elif topic == \"account\":\n",
    "            return {\"team_to_call\": \"account_team\"}\n",
    "        elif topic == \"loan\":\n",
    "            return {\"team_to_call\": \"loan_team\"}\n",
    "\n",
    "    return {\"team_to_call\": \"general_team\"}\n"
   ]
  },
  {
   "cell_type": "code",
   "execution_count": null,
   "id": "c9fddaf0",
   "metadata": {},
   "outputs": [],
   "source": [
    "def trigger_agent_team(state: FintechState, config: RunnableConfig):\n",
    "    query = state[\"query\"]\n",
    "    team_to_call = state[\"team_to_call\"]\n",
    "    agent_teams:List[CompiledStateGraph] = config[\"configurable\"][\"agent_teams\"]\n",
    "    agent_swarm_map = config[\"configurable\"][\"agent_swarm_map\"]\n",
    "    agent_pool_to_call:List[CompiledStateGraph] = agent_swarm_map[team_to_call]\n",
    "\n",
    "    for team in agent_teams:\n",
    "        if team.name == team_to_call:\n",
    "            \n",
    "            result = team.invoke(\n",
    "                input={\n",
    "                    \"messages\": [HumanMessage(content=query)],\n",
    "                    \"agent_names\": [agent.name for agent in agent_pool_to_call]\n",
    "                },\n",
    "                config={\n",
    "                    \"configurable\": {\n",
    "                        \"thread_id\": \"round_robin\"\n",
    "                    }\n",
    "                }\n",
    "            )\n",
    "            return {\"messages\": result[\"messages\"]} \n",
    " \n",
    "    raise ValueError(\"team_to_call is not inside agent_teams\")  "
   ]
  },
  {
   "cell_type": "code",
   "execution_count": 22,
   "id": "0427a8a8",
   "metadata": {},
   "outputs": [],
   "source": [
    "def create_fintech_workflow():\n",
    "    \"\"\"\n",
    "    Create the complete workflow that:\n",
    "    1. Routes by urgency + topic to teams\n",
    "    2. Uses round-robin within teams\n",
    "    \"\"\"\n",
    "    workflow = StateGraph(FintechState)\n",
    "    \n",
    "    workflow.add_node(\"define_agent_team\", define_agent_team)\n",
    "    workflow.add_node(\"trigger_agent_team\", trigger_agent_team)\n",
    "    \n",
    "    workflow.add_edge(START, \"define_agent_team\")\n",
    "    workflow.add_edge(\"define_agent_team\", \"trigger_agent_team\")\n",
    "    workflow.add_edge(\"trigger_agent_team\", END)\n",
    "    \n",
    "    return workflow"
   ]
  },
  {
   "cell_type": "code",
   "execution_count": 23,
   "id": "0470b97c",
   "metadata": {},
   "outputs": [
    {
     "data": {
      "image/png": "[encoded data removed]",
      "text/plain": [
       "<langgraph.graph.state.CompiledStateGraph object at 0x10c3efdd0>"
      ]
     },
     "execution_count": 23,
     "metadata": {},
     "output_type": "execute_result"
    }
   ],
   "source": [
    "fintech_workflow = create_fintech_workflow()\n",
    "fintech_graph = fintech_workflow.compile(checkpointer=MemorySaver())\n",
    "fintech_graph"
   ]
  },
  {
   "cell_type": "markdown",
   "id": "480e1fe4",
   "metadata": {},
   "source": [
    "## 5. Run Multi Agent System"
   ]
  },
  {
   "cell_type": "markdown",
   "id": "4bd65bfc",
   "metadata": {},
   "source": [
    "Create a function to execute the complete routing system and test it with various customer inquiries."
   ]
  },
  {
   "cell_type": "code",
   "execution_count": 24,
   "id": "a75db44b",
   "metadata": {},
   "outputs": [],
   "source": [
    "def run_multi_agent_system(\n",
    "    query:str,\n",
    "    graph:CompiledStateGraph, \n",
    "    thread_id:str,\n",
    "    agent_teams:List[CompiledStateGraph],\n",
    "    agent_swarm_map:Dict[str, CompiledStateGraph]\n",
    "):\n",
    "    result = graph.invoke(\n",
    "        input={\n",
    "            \"query\": query,\n",
    "        },\n",
    "        config={\n",
    "            \"configurable\": {\n",
    "                \"thread_id\": thread_id,\n",
    "                \"agent_teams\": agent_teams,\n",
    "                \"agent_swarm_map\": agent_swarm_map,\n",
    "            }\n",
    "        }\n",
    "    )\n",
    "    return result"
   ]
  },
  {
   "cell_type": "code",
   "execution_count": null,
   "id": "32d0c540",
   "metadata": {},
   "outputs": [
    {
     "name": "stdout",
     "output_type": "stream",
     "text": [
      "general_team credit_card_team\n",
      "credit_card_team credit_card_team\n",
      "Round-robin Active Agent: credit_card_agent_2\n"
     ]
    }
   ],
   "source": [
    "# TODO: Pass the arguments and run your system\n",
    "result = run_multi_agent_system()"
   ]
  },
  {
   "cell_type": "code",
   "execution_count": 27,
   "id": "e0f3c7c8",
   "metadata": {},
   "outputs": [
    {
     "data": {
      "text/plain": [
       "{'messages': [HumanMessage(content='URGENT: My credit card was stolen!', additional_kwargs={}, response_metadata={}, id='7a955af6-dbca-4100-83b4-b75e56bbcde1'),\n",
       "  AIMessage(content=\"[CREDIT CARD] I'm sorry to hear that your credit card was stolen. It's important to act quickly to protect your account. Please follow these steps:\\n\\n1. **Report the Theft**: Call our customer service immediately at [insert customer service number] to report the stolen card. We will block your card to prevent any unauthorized transactions.\\n\\n2. **Review Transactions**: Check your recent transactions for any unauthorized charges. Make a note of any suspicious activity to report.\\n\\n3. **Request a Replacement Card**: Once your card is reported stolen, we can issue a replacement card for you.\\n\\n4. **Monitor Your Account**: Keep an eye on your account for any further unauthorized transactions and report them as soon as possible.\\n\\nIf you need further assistance or have any questions, please let me know!\", additional_kwargs={'refusal': None}, response_metadata={'token_usage': {'completion_tokens': 160, 'prompt_tokens': 56, 'total_tokens': 216, 'completion_tokens_details': {'accepted_prediction_tokens': 0, 'audio_tokens': 0, 'reasoning_tokens': 0, 'rejected_prediction_tokens': 0}, 'prompt_tokens_details': {'audio_tokens': 0, 'cached_tokens': 0}}, 'model_name': 'gpt-4o-mini-2024-07-18', 'system_fingerprint': 'fp_560af6e559', 'id': 'chatcmpl-CBYee1gbTbhZP2JCj4BCjwLbqPnEQ', 'service_tier': 'default', 'finish_reason': 'stop', 'logprobs': None}, name='credit_card_agent_2', id='run--861c6432-94f5-46ee-be0d-5f2cba943d57-0', usage_metadata={'input_tokens': 56, 'output_tokens': 160, 'total_tokens': 216, 'input_token_details': {'audio': 0, 'cache_read': 0}, 'output_token_details': {'audio': 0, 'reasoning': 0}})],\n",
       " 'query': 'URGENT: My credit card was stolen!',\n",
       " 'team_to_call': 'credit_card_team'}"
      ]
     },
     "execution_count": 27,
     "metadata": {},
     "output_type": "execute_result"
    }
   ],
   "source": [
    "result"
   ]
  },
  {
   "cell_type": "code",
   "execution_count": 31,
   "id": "e4158d79",
   "metadata": {},
   "outputs": [
    {
     "name": "stdout",
     "output_type": "stream",
     "text": [
      "================================\u001b[1m Human Message \u001b[0m=================================\n",
      "\n",
      "URGENT: My credit card was stolen!\n",
      "==================================\u001b[1m Ai Message \u001b[0m==================================\n",
      "Name: credit_card_agent_2\n",
      "\n",
      "[CREDIT CARD] I'm sorry to hear that your credit card was stolen. It's important to act quickly to protect your account. Please follow these steps:\n",
      "\n",
      "1. **Report the Theft**: Call our customer service immediately at [insert customer service number] to report the stolen card. We will block your card to prevent any unauthorized transactions.\n",
      "\n",
      "2. **Review Transactions**: Check your recent transactions for any unauthorized charges. Make a note of any suspicious activity to report.\n",
      "\n",
      "3. **Request a Replacement Card**: Once your card is reported stolen, we can issue a replacement card for you.\n",
      "\n",
      "4. **Monitor Your Account**: Keep an eye on your account for any further unauthorized transactions and report them as soon as possible.\n",
      "\n",
      "If you need further assistance or have any questions, please let me know!\n",
      "================================\u001b[1m Human Message \u001b[0m=================================\n",
      "\n",
      "ASAP: Fraudulent charges on my card!\n",
      "==================================\u001b[1m Ai Message \u001b[0m==================================\n",
      "Name: credit_card_agent_1\n",
      "\n",
      "[CREDIT CARD] I'm sorry to hear that you're experiencing fraudulent charges on your card. It's crucial to address this issue immediately. Please follow these steps:\n",
      "\n",
      "1. **Report the Fraud**: Contact our customer service right away at [insert customer service number] to report the fraudulent charges. We will investigate the transactions and block your card to prevent further unauthorized use.\n",
      "\n",
      "2. **Review Your Transactions**: Go through your recent transactions and identify any charges that you did not authorize. Make a list of these transactions to provide to our team.\n",
      "\n",
      "3. **Dispute the Charges**: We can assist you in disputing the fraudulent charges. Be prepared to provide details about the transactions in question.\n",
      "\n",
      "4. **Monitor Your Account**: Keep an eye on your account for any additional unauthorized transactions and report them as soon as possible.\n",
      "\n",
      "If you need further assistance or have any questions, please let me know!\n"
     ]
    }
   ],
   "source": [
    "for message in result[\"messages\"]:\n",
    "    message.pretty_print()"
   ]
  },
  {
   "cell_type": "markdown",
   "id": "aa0bc502",
   "metadata": {},
   "source": [
    "## 6. [Optional] Test Cases"
   ]
  },
  {
   "cell_type": "markdown",
   "id": "93aed552",
   "metadata": {},
   "source": [
    "Create comprehensive test cases to validate the routing system works correctly across different scenarios."
   ]
  },
  {
   "cell_type": "code",
   "execution_count": null,
   "id": "567781da",
   "metadata": {},
   "outputs": [],
   "source": [
    "test_cases = [\n",
    "    # (message, expected_team, expected_urgency)\n",
    "    (\"How do I check my account balance?\", \"general_team\", \"normal\"),\n",
    "    (\"URGENT: My credit card was stolen!\", \"credit_card_team\", \"urgent\"),\n",
    "    (\"I can't access my account, this is critical\", \"account_team\", \"urgent\"),\n",
    "    (\"What are the current loan rates?\", \"loan_team\", \"normal\"),\n",
    "    (\"ASAP: Fraudulent charges on my card!\", \"credit_card_team\", \"urgent\"),\n",
    "    (\"How do I update my contact information?\", \"account_team\", \"normal\"),\n",
    "    (\"I need help with my loan application\", \"loan_team\", \"normal\"),\n",
    "    (\"What products do you offer?\", \"general_team\", \"normal\"),\n",
    "]"
   ]
  }
 ],
 "metadata": {
  "kernelspec": {
   "display_name": "cd14641 (3.11.10)",
   "language": "python",
   "name": "python3"
  },
  "language_info": {
   "codemirror_mode": {
    "name": "ipython",
    "version": 3
   },
   "file_extension": ".py",
   "mimetype": "text/x-python",
   "name": "python",
   "nbconvert_exporter": "python",
   "pygments_lexer": "ipython3",
   "version": "3.11.10"
  }
 },
 "nbformat": 4,
 "nbformat_minor": 5
}
