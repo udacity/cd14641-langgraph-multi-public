{
 "cells": [
  {
   "cell_type": "code",
   "execution_count": 1,
   "id": "dac63a55",
   "metadata": {},
   "outputs": [],
   "source": [
    "from datetime import datetime, timedelta\n",
    "import json\n",
    "import uuid\n",
    "import random \n",
    "from sqlalchemy import create_engine\n",
    "\n",
    "from utils import reset_db, get_session, model_to_dict\n",
    "from data.models import cultpass"
   ]
  },
  {
   "cell_type": "markdown",
   "id": "b775ef31",
   "metadata": {},
   "source": [
    "# Udahub Accounts"
   ]
  },
  {
   "cell_type": "markdown",
   "id": "b0a211c3",
   "metadata": {},
   "source": [
    "## Cultpass Database"
   ]
  },
  {
   "cell_type": "markdown",
   "id": "d08b2021",
   "metadata": {},
   "source": [
    "**Init DB**"
   ]
  },
  {
   "cell_type": "code",
   "execution_count": 2,
   "id": "a63014dc",
   "metadata": {},
   "outputs": [],
   "source": [
    "cultpass_db = \"data/external/cultpass.db\""
   ]
  },
  {
   "cell_type": "code",
   "execution_count": 3,
   "id": "1dcad189",
   "metadata": {},
   "outputs": [
    {
     "name": "stdout",
     "output_type": "stream",
     "text": [
      "2025-08-07 01:49:28,486 INFO sqlalchemy.engine.Engine BEGIN (implicit)\n",
      "2025-08-07 01:49:28,487 INFO sqlalchemy.engine.Engine COMMIT\n",
      "✅ Recreated data/external/cultpass.db with fresh schema\n"
     ]
    }
   ],
   "source": [
    "reset_db(cultpass_db)"
   ]
  },
  {
   "cell_type": "code",
   "execution_count": 4,
   "id": "a9824100",
   "metadata": {},
   "outputs": [],
   "source": [
    "engine = create_engine(f\"sqlite:///{cultpass_db}\", echo=False)\n",
    "cultpass.Base.metadata.create_all(engine)"
   ]
  },
  {
   "cell_type": "markdown",
   "id": "5764430b",
   "metadata": {},
   "source": [
    "**Experiences**"
   ]
  },
  {
   "cell_type": "code",
   "execution_count": 5,
   "id": "36e499d2",
   "metadata": {},
   "outputs": [],
   "source": [
    "experience_data = []\n",
    "\n",
    "with open('data/external/cultpass_experiences.jsonl', 'r', encoding='utf-8') as f:\n",
    "    for line in f:\n",
    "        experience_data.append(json.loads(line))"
   ]
  },
  {
   "cell_type": "code",
   "execution_count": 6,
   "id": "9f1fcc12",
   "metadata": {},
   "outputs": [
    {
     "data": {
      "text/plain": [
       "[{'title': 'Carnival History Tour in Olinda',\n",
       "  'description': \"Discover the origins and vibrant traditions of Pernambuco's Carnival.\",\n",
       "  'location': 'Pernambuco, Brazil'},\n",
       " {'title': 'Sunset Paddleboarding',\n",
       "  'description': 'Glide across calm waters at golden hour with all gear included.',\n",
       "  'location': 'Santa Catarina, Brazil'},\n",
       " {'title': 'Pelourinho Colonial Walk',\n",
       "  'description': 'Wander through colorful streets and learn about Afro-Brazilian history.',\n",
       "  'location': 'Bahia, Brazil'},\n",
       " {'title': 'Samba Night at Lapa',\n",
       "  'description': 'Dance the night away at a traditional samba club in the Lapa arches.',\n",
       "  'location': 'Rio de Janeiro, Brazil'},\n",
       " {'title': 'Christ the Redeemer Experience',\n",
       "  'description': 'Take a guided trip to one of the New Seven Wonders of the World with historical context.',\n",
       "  'location': 'Rio de Janeiro, Brazil'},\n",
       " {'title': 'Modern Art at MASP',\n",
       "  'description': 'Enjoy a guided visit to the São Paulo Museum of Art with insights into its top collections.',\n",
       "  'location': 'São Paulo, Brazil'},\n",
       " {'title': 'Ibirapuera Park Bike Ride',\n",
       "  'description': \"Cycle through the city's most iconic park with stops for photos and history.\",\n",
       "  'location': 'São Paulo, Brazil'}]"
      ]
     },
     "execution_count": 6,
     "metadata": {},
     "output_type": "execute_result"
    }
   ],
   "source": [
    "experience_data"
   ]
  },
  {
   "cell_type": "code",
   "execution_count": 7,
   "id": "9589280c",
   "metadata": {},
   "outputs": [],
   "source": [
    "with get_session(engine) as session:\n",
    "    experiences = []\n",
    "\n",
    "    for idx, experience in enumerate(experience_data):\n",
    "        exp = cultpass.Experience(\n",
    "            experience_id=str(uuid.uuid4())[:6],\n",
    "            title=experience[\"title\"],\n",
    "            description=experience[\"description\"],\n",
    "            location=experience[\"location\"],\n",
    "            when=datetime.now() + timedelta(days=idx+1),\n",
    "            slots_available=random.randint(1,30),\n",
    "            is_premium=(idx % 2 == 0)\n",
    "        )\n",
    "        experiences.append(exp)\n",
    "\n",
    "    session.add_all(experiences)"
   ]
  },
  {
   "cell_type": "markdown",
   "id": "fbdded0b",
   "metadata": {},
   "source": [
    "**User**"
   ]
  },
  {
   "cell_type": "code",
   "execution_count": 8,
   "id": "03b794ea",
   "metadata": {},
   "outputs": [],
   "source": [
    "cultpass_users = []\n",
    "\n",
    "with open('data/external/cultpass_users.jsonl', 'r', encoding='utf-8') as f:\n",
    "    for line in f:\n",
    "        cultpass_users.append(json.loads(line))"
   ]
  },
  {
   "cell_type": "code",
   "execution_count": 9,
   "id": "e7c37ab8",
   "metadata": {},
   "outputs": [
    {
     "data": {
      "text/plain": [
       "[{'id': 'a4ab87',\n",
       "  'name': 'Alice Kingsley',\n",
       "  'email': 'alice.kingsley@wonderland.com',\n",
       "  'is_blocked': True},\n",
       " {'id': 'f556c0',\n",
       "  'name': 'Bob Stone',\n",
       "  'email': 'bob.stone@granite.com',\n",
       "  'is_blocked': False},\n",
       " {'id': '88382b',\n",
       "  'name': 'Cathy Bloom',\n",
       "  'email': 'cathy.bloom@florals.org',\n",
       "  'is_blocked': False},\n",
       " {'id': '888fb2',\n",
       "  'name': 'David Noir',\n",
       "  'email': 'david.noir@shadowmail.com',\n",
       "  'is_blocked': True},\n",
       " {'id': 'f1f10d',\n",
       "  'name': 'Eva Green',\n",
       "  'email': 'eva.green@ecosoul.net',\n",
       "  'is_blocked': False},\n",
       " {'id': 'e6376d',\n",
       "  'name': 'Frank Ocean',\n",
       "  'email': 'frank.ocean@seawaves.io',\n",
       "  'is_blocked': False}]"
      ]
     },
     "execution_count": 9,
     "metadata": {},
     "output_type": "execute_result"
    }
   ],
   "source": [
    "cultpass_users"
   ]
  },
  {
   "cell_type": "code",
   "execution_count": 10,
   "id": "a9edb9e8",
   "metadata": {},
   "outputs": [],
   "source": [
    "with get_session(engine) as session:\n",
    "    db_users = []\n",
    "    for user_info in cultpass_users:\n",
    "        user = cultpass.User(\n",
    "            user_id=user_info[\"id\"],\n",
    "            full_name=user_info[\"name\"],\n",
    "            email=user_info[\"email\"],\n",
    "            is_blocked=user_info[\"is_blocked\"],\n",
    "            created_at=datetime.now()\n",
    "        )\n",
    "        db_users.append(user)\n",
    "    session.add_all(db_users) "
   ]
  },
  {
   "cell_type": "markdown",
   "id": "a43ecc2f",
   "metadata": {},
   "source": [
    "**Subscription**"
   ]
  },
  {
   "cell_type": "code",
   "execution_count": 11,
   "id": "cbc01f01",
   "metadata": {},
   "outputs": [],
   "source": [
    "with get_session(engine) as session:\n",
    "    subscriptions = []\n",
    "    for user_info in cultpass_users:\n",
    "        subscription = cultpass.Subscription(\n",
    "            subscription_id=str(uuid.uuid4())[:6],\n",
    "            user_id=user_info[\"id\"],\n",
    "            status=random.choice([\"active\", \"cancelled\"]),\n",
    "            tier=random.choice([\"basic\", \"premium\"]),\n",
    "            monthly_quota=random.randint(2,10),\n",
    "            started_at=datetime.now()\n",
    "        )\n",
    "        subscriptions.append(subscription)\n",
    "\n",
    "    session.add_all(subscriptions)"
   ]
  },
  {
   "cell_type": "markdown",
   "id": "651839d2",
   "metadata": {},
   "source": [
    "**Reservation**"
   ]
  },
  {
   "cell_type": "code",
   "execution_count": 12,
   "id": "40edbd5d",
   "metadata": {},
   "outputs": [],
   "source": [
    "# Applicable to `cultpass_users[0]` at the moment\n",
    "\n",
    "with get_session(engine) as session:\n",
    "    experience_ids = [\n",
    "        exp.experience_id \n",
    "        for exp \n",
    "        in session.query(cultpass.Experience).all()\n",
    "    ]\n",
    "\n",
    "    reservation1 = cultpass.Reservation(\n",
    "        reservation_id=str(uuid.uuid4())[:6],\n",
    "        user_id=cultpass_users[0][\"id\"],\n",
    "        experience_id=random.choice(experience_ids),\n",
    "        status=\"reserved\",\n",
    "    )\n",
    "\n",
    "    reservation2 = cultpass.Reservation(\n",
    "        reservation_id=str(uuid.uuid4())[:6],\n",
    "        user_id=cultpass_users[0][\"id\"],\n",
    "        experience_id=random.choice(experience_ids),\n",
    "        status=\"reserved\",\n",
    "    )\n",
    "\n",
    "    session.add_all([reservation1, reservation2])"
   ]
  },
  {
   "cell_type": "code",
   "execution_count": 13,
   "id": "5340b498",
   "metadata": {},
   "outputs": [],
   "source": [
    "# TODO: Add more data\n",
    "# Please notice that the reservations were set to first user only \n",
    "# If you want to simulate more users later, please create more reservations per user\n",
    "\n",
    "with get_session(engine) as session:\n",
    "    pass"
   ]
  },
  {
   "cell_type": "markdown",
   "id": "e3c86854",
   "metadata": {},
   "source": [
    "# Tests"
   ]
  },
  {
   "cell_type": "code",
   "execution_count": 14,
   "id": "4cc8f26a",
   "metadata": {},
   "outputs": [
    {
     "name": "stdout",
     "output_type": "stream",
     "text": [
      "<User(user_id='a4ab87', email='alice.kingsley@wonderland.com', is_blocked=True)>\n",
      "<User(user_id='f556c0', email='bob.stone@granite.com', is_blocked=False)>\n",
      "<User(user_id='88382b', email='cathy.bloom@florals.org', is_blocked=False)>\n",
      "<User(user_id='888fb2', email='david.noir@shadowmail.com', is_blocked=True)>\n",
      "<User(user_id='f1f10d', email='eva.green@ecosoul.net', is_blocked=False)>\n",
      "<User(user_id='e6376d', email='frank.ocean@seawaves.io', is_blocked=False)>\n"
     ]
    }
   ],
   "source": [
    "with get_session(engine) as session:\n",
    "    users = session.query(cultpass.User).all()\n",
    "    for user in users:\n",
    "        print(user)"
   ]
  },
  {
   "cell_type": "code",
   "execution_count": 15,
   "id": "adffc60c",
   "metadata": {},
   "outputs": [
    {
     "name": "stdout",
     "output_type": "stream",
     "text": [
      "<Subscription(subscription_id='bfa31c', user_id='a4ab87', status='cancelled', tier='basic')>\n",
      "<Subscription(subscription_id='d26833', user_id='f556c0', status='active', tier='basic')>\n",
      "<Subscription(subscription_id='4a642d', user_id='88382b', status='active', tier='premium')>\n",
      "<Subscription(subscription_id='d07476', user_id='888fb2', status='active', tier='basic')>\n",
      "<Subscription(subscription_id='f83c1c', user_id='f1f10d', status='cancelled', tier='basic')>\n",
      "<Subscription(subscription_id='e3e413', user_id='e6376d', status='cancelled', tier='premium')>\n"
     ]
    }
   ],
   "source": [
    "with get_session(engine) as session:\n",
    "    users = session.query(cultpass.User).all()\n",
    "    for user in users:\n",
    "        print(user.subscription)"
   ]
  },
  {
   "cell_type": "code",
   "execution_count": 16,
   "id": "d8802aa0",
   "metadata": {},
   "outputs": [
    {
     "name": "stdout",
     "output_type": "stream",
     "text": [
      "<Experience(experience_id='77cb90', title='Carnival History Tour in Olinda', when='2025-08-08 01:49:28.508231')>\n",
      "<Experience(experience_id='f214bf', title='Sunset Paddleboarding', when='2025-08-09 01:49:28.513232')>\n",
      "<Experience(experience_id='03cd70', title='Pelourinho Colonial Walk', when='2025-08-10 01:49:28.513268')>\n",
      "<Experience(experience_id='79b7cd', title='Samba Night at Lapa', when='2025-08-11 01:49:28.513284')>\n",
      "<Experience(experience_id='d37ea0', title='Christ the Redeemer Experience', when='2025-08-12 01:49:28.513299')>\n",
      "<Experience(experience_id='ec95ce', title='Modern Art at MASP', when='2025-08-13 01:49:28.513313')>\n",
      "<Experience(experience_id='e8c515', title='Ibirapuera Park Bike Ride', when='2025-08-14 01:49:28.513328')>\n"
     ]
    }
   ],
   "source": [
    "with get_session(engine) as session:\n",
    "    experiences = session.query(cultpass.Experience).all()\n",
    "    for experience in experiences:\n",
    "        print(experience)"
   ]
  },
  {
   "cell_type": "code",
   "execution_count": null,
   "id": "4c5f90ea",
   "metadata": {},
   "outputs": [],
   "source": []
  }
 ],
 "metadata": {
  "kernelspec": {
   "display_name": "cd14641 (3.11.10)",
   "language": "python",
   "name": "python3"
  },
  "language_info": {
   "codemirror_mode": {
    "name": "ipython",
    "version": 3
   },
   "file_extension": ".py",
   "mimetype": "text/x-python",
   "name": "python",
   "nbconvert_exporter": "python",
   "pygments_lexer": "ipython3",
   "version": "3.11.10"
  }
 },
 "nbformat": 4,
 "nbformat_minor": 5
}
