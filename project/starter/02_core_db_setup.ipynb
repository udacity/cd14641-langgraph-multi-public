{
 "cells": [
  {
   "cell_type": "code",
   "execution_count": null,
   "id": "dac63a55",
   "metadata": {},
   "outputs": [],
   "source": [
    "import json\n",
    "import uuid\n",
    "from sqlalchemy import create_engine\n",
    "\n",
    "from utils import reset_db, get_session, model_to_dict\n",
    "from data.models import udahub"
   ]
  },
  {
   "cell_type": "markdown",
   "id": "a14c2a4c",
   "metadata": {},
   "source": [
    "# Udahub Application"
   ]
  },
  {
   "cell_type": "markdown",
   "id": "7cf8a710",
   "metadata": {},
   "source": [
    "## Core Database"
   ]
  },
  {
   "cell_type": "markdown",
   "id": "f4d2fa39",
   "metadata": {},
   "source": [
    "**Init DB**"
   ]
  },
  {
   "cell_type": "code",
   "execution_count": 2,
   "id": "982cd9df",
   "metadata": {},
   "outputs": [],
   "source": [
    "udahub_db = \"data/core/udahub.db\""
   ]
  },
  {
   "cell_type": "code",
   "execution_count": 3,
   "id": "7ef84fdd",
   "metadata": {},
   "outputs": [
    {
     "name": "stdout",
     "output_type": "stream",
     "text": [
      "✅ Removed existing data/core/udahub.db\n",
      "2025-08-07 01:47:21,701 INFO sqlalchemy.engine.Engine BEGIN (implicit)\n",
      "2025-08-07 01:47:21,701 INFO sqlalchemy.engine.Engine COMMIT\n",
      "✅ Recreated data/core/udahub.db with fresh schema\n"
     ]
    }
   ],
   "source": [
    "reset_db(udahub_db)"
   ]
  },
  {
   "cell_type": "code",
   "execution_count": 4,
   "id": "47b30e7b",
   "metadata": {},
   "outputs": [],
   "source": [
    "engine = create_engine(f\"sqlite:///{udahub_db}\", echo=False)\n",
    "udahub.Base.metadata.create_all(bind=engine)"
   ]
  },
  {
   "cell_type": "markdown",
   "id": "8d1236dd",
   "metadata": {},
   "source": [
    "**Account**"
   ]
  },
  {
   "cell_type": "code",
   "execution_count": 5,
   "id": "0309d2eb",
   "metadata": {},
   "outputs": [],
   "source": [
    "account_id = \"cultpass\"\n",
    "account_name = \"CultPass Card\""
   ]
  },
  {
   "cell_type": "code",
   "execution_count": 6,
   "id": "3fc1e5a1",
   "metadata": {},
   "outputs": [],
   "source": [
    "with get_session(engine) as session:\n",
    "    account = udahub.Account(\n",
    "        account_id=account_id,\n",
    "        account_name=account_name,\n",
    "    )\n",
    "    session.add(account)"
   ]
  },
  {
   "cell_type": "markdown",
   "id": "64354a72",
   "metadata": {},
   "source": [
    "## Integrations"
   ]
  },
  {
   "cell_type": "markdown",
   "id": "302f79fa",
   "metadata": {},
   "source": [
    "**Knowledge Base**"
   ]
  },
  {
   "cell_type": "code",
   "execution_count": 7,
   "id": "e848000e",
   "metadata": {},
   "outputs": [],
   "source": [
    "# TODO: Create additional 10 articles"
   ]
  },
  {
   "cell_type": "code",
   "execution_count": 8,
   "id": "5414dfad",
   "metadata": {},
   "outputs": [],
   "source": [
    "cultpass_articles = []\n",
    "\n",
    "with open('data/external/cultpass_articles.jsonl', 'r', encoding='utf-8') as f:\n",
    "    for line in f:\n",
    "        cultpass_articles.append(json.loads(line))"
   ]
  },
  {
   "cell_type": "code",
   "execution_count": 9,
   "id": "e6be7182",
   "metadata": {},
   "outputs": [
    {
     "data": {
      "text/plain": [
       "[{'title': 'How to Reserve a Spot for an Event',\n",
       "  'content': 'If a user asks how to reserve an event:\\n\\n- Guide them to the CultPass app\\n- Instruct them to browse the experience catalog and tap \\'Reserve\\'\\n- If it\\'s a premium or limited event, check if reservation confirmation is required via email\\n- Remind them to arrive at least 15 minutes early with their QR code visible\\n\\n**Suggested phrasing:**\\n\"You can reserve an experience by opening the CultPass app, selecting your desired event, and tapping \\'Reserve\\'. Be sure to arrive 15 minutes early with your QR code ready.\"',\n",
       "  'tags': 'reservation, events, booking, attendance'},\n",
       " {'title': \"What's Included in a CultPass Subscription\",\n",
       "  'content': 'Each user is entitled to 4 cultural experiences per month, which may include:\\n- Art exhibitions\\n- Museum entries\\n- Music concerts\\n- Film screenings and more\\n\\nSome premium experiences may require an additional fee (visible in the app).\\n\\n**Suggested phrasing:**\\n\"Your CultPass subscription includes 4 curated experiences each month. You can choose from museums, concerts, film events and more. Premium events may have an extra cost, which is shown during reservation.\"',\n",
       "  'tags': 'subscription, benefits, pricing, access'},\n",
       " {'title': 'How to Cancel or Pause a Subscription',\n",
       "  'content': 'Users can manage their subscription via the app > \\'My Account\\' > \\'Manage Plan\\'.\\n\\n- Cancel: Effective at the end of the billing cycle\\n- Pause: Preserves user data, resumes automatically when reactivated\\n- Do NOT offer refunds unless approved by support lead\\n\\n**Suggested phrasing:**\\n\"You can cancel or pause your subscription at any time via the \\'My Account\\' section in the CultPass app. Cancelation takes effect at the end of your billing cycle.\"',\n",
       "  'tags': 'cancelation, pause, subscription, billing'},\n",
       " {'title': 'How to Handle Login Issues?',\n",
       "  'content': 'Most login issues are resolved with password reset:\\n\\n- Ask the user to tap \\'Forgot Password\\' on the login screen\\n- Ensure they are using the correct registered email\\n- If they did not receive the reset email, check spam folder or retry after 10 minutes\\n- For persistent login issues, escalate to human support\\n\\n**Suggested phrasing:**\\n\"Try tapping \\'Forgot Password\\' on the login screen. Make sure you\\'re using the email associated with your account. If the email doesn\\'t arrive, check spam or try again in a few minutes.\"',\n",
       "  'tags': 'login, password, access, escalation'}]"
      ]
     },
     "execution_count": 9,
     "metadata": {},
     "output_type": "execute_result"
    }
   ],
   "source": [
    "cultpass_articles"
   ]
  },
  {
   "cell_type": "code",
   "execution_count": null,
   "id": "f827b478",
   "metadata": {},
   "outputs": [],
   "source": [
    "if len(cultpass_articles) < 14:\n",
    "    raise AssertionError(\"You should load the articles with at least 14 records\")"
   ]
  },
  {
   "cell_type": "code",
   "execution_count": 11,
   "id": "8b6b050a",
   "metadata": {},
   "outputs": [],
   "source": [
    "with get_session(engine) as session:\n",
    "    kb = []\n",
    "    for article in cultpass_articles:\n",
    "        knowledge = udahub.Knowledge(\n",
    "            article_id=str(uuid.uuid4()),\n",
    "            account_id=account_id,\n",
    "            title=article[\"title\"],\n",
    "            content=article[\"content\"],\n",
    "            tags=article[\"tags\"]\n",
    "        )\n",
    "        kb.append(knowledge)\n",
    "    session.add_all(kb) \n",
    "    "
   ]
  },
  {
   "cell_type": "markdown",
   "id": "008a05b4",
   "metadata": {},
   "source": [
    "**Ticket**"
   ]
  },
  {
   "cell_type": "code",
   "execution_count": 12,
   "id": "e511d256",
   "metadata": {},
   "outputs": [],
   "source": [
    "cultpass_users = []\n",
    "\n",
    "with open('data/external/cultpass_users.jsonl', 'r', encoding='utf-8') as f:\n",
    "    for line in f:\n",
    "        cultpass_users.append(json.loads(line))"
   ]
  },
  {
   "cell_type": "code",
   "execution_count": 13,
   "id": "d671d9c5",
   "metadata": {},
   "outputs": [],
   "source": [
    "ticket_info = {\n",
    "    \"status\": \"open\",\n",
    "    \"content\": \"I can't log in to my Cultpass account.\",\n",
    "    \"owner_id\": cultpass_users[0][\"id\"],\n",
    "    \"owner_name\": cultpass_users[0][\"name\"],\n",
    "    \"role\": \"user\",\n",
    "    \"channel\": \"chat\",\n",
    "    \"tags\": \"login, access\",\n",
    "}"
   ]
  },
  {
   "cell_type": "code",
   "execution_count": 14,
   "id": "e6eeb4ac",
   "metadata": {},
   "outputs": [],
   "source": [
    "with get_session(engine) as session:\n",
    "    user = session.query(udahub.User).filter_by(\n",
    "        account_id=account_id,\n",
    "        external_user_id=ticket_info[\"owner_id\"],\n",
    "    ).first()\n",
    "\n",
    "    if not user:\n",
    "        user = udahub.User(\n",
    "            user_id=str(uuid.uuid4()),\n",
    "            account_id=account_id,\n",
    "            external_user_id=ticket_info[\"owner_id\"],\n",
    "            user_name=ticket_info[\"owner_name\"],\n",
    "        )\n",
    "    \n",
    "    ticket = udahub.Ticket(\n",
    "        ticket_id=str(uuid.uuid4()),\n",
    "        account_id=account_id,\n",
    "        user_id=user.user_id,\n",
    "        channel=ticket_info[\"channel\"],\n",
    "    )\n",
    "    metadata = udahub.TicketMetadata(\n",
    "        ticket_id=ticket.ticket_id,\n",
    "        status=ticket_info[\"status\"],\n",
    "        main_issue_type=None,\n",
    "        tags=ticket_info[\"tags\"],\n",
    "    )\n",
    "\n",
    "    first_message = udahub.TicketMessage(\n",
    "        message_id=str(uuid.uuid4()),\n",
    "        ticket_id=ticket.ticket_id,\n",
    "        role=ticket_info[\"role\"],\n",
    "        content=ticket_info[\"content\"],\n",
    "    )\n",
    "\n",
    "    session.add_all([user, ticket, metadata, first_message])\n"
   ]
  },
  {
   "cell_type": "markdown",
   "id": "e3c86854",
   "metadata": {},
   "source": [
    "# Tests"
   ]
  },
  {
   "cell_type": "code",
   "execution_count": 15,
   "id": "4cc8f26a",
   "metadata": {},
   "outputs": [
    {
     "name": "stdout",
     "output_type": "stream",
     "text": [
      "<Account(account_id='cultpass', account_name='CultPass Card')>\n"
     ]
    }
   ],
   "source": [
    "with get_session(engine) as session:\n",
    "    account = session.query(udahub.Account).filter_by(\n",
    "        account_id=account_id\n",
    "    ).first()\n",
    "    print(account)"
   ]
  },
  {
   "cell_type": "code",
   "execution_count": 16,
   "id": "af36d748",
   "metadata": {},
   "outputs": [
    {
     "name": "stdout",
     "output_type": "stream",
     "text": [
      "<Knowledge(article_id='21e466ef-11a9-4637-b970-859fcc89cff0', title='How to Reserve a Spot for an Event')>\n",
      "<Knowledge(article_id='3ec5f050-9005-4b37-8b3a-1368fb882fd6', title='What's Included in a CultPass Subscription')>\n",
      "<Knowledge(article_id='63a74f8d-41cf-4c86-b584-7ab99d19f090', title='How to Cancel or Pause a Subscription')>\n",
      "<Knowledge(article_id='69102d73-4b2d-4b09-8e36-120840b0f64f', title='How to Handle Login Issues?')>\n"
     ]
    }
   ],
   "source": [
    "with get_session(engine) as session:\n",
    "    account = session.query(udahub.Account).filter_by(\n",
    "        account_id=account_id\n",
    "    ).first()\n",
    "    for article in account.knowledge_articles:\n",
    "        print(article)"
   ]
  },
  {
   "cell_type": "code",
   "execution_count": 17,
   "id": "ef392fe8",
   "metadata": {},
   "outputs": [
    {
     "name": "stdout",
     "output_type": "stream",
     "text": [
      "<User(user_id='a104aa35-5f37-4230-b247-21d24961e526', user_name='Alice Kingsley', external_user_id='a4ab87')>\n"
     ]
    }
   ],
   "source": [
    "with get_session(engine) as session:\n",
    "    users = session.query(udahub.User).all()\n",
    "    for user in users:\n",
    "        print(user)"
   ]
  },
  {
   "cell_type": "code",
   "execution_count": 18,
   "id": "826becb2",
   "metadata": {},
   "outputs": [
    {
     "name": "stdout",
     "output_type": "stream",
     "text": [
      "<TicketMessage(message_id='a1f4aa78-fae6-4507-9fea-7a84b377061a', role='user', content='I can't log in to my Cultpass ...')>\n"
     ]
    }
   ],
   "source": [
    "with get_session(engine) as session:\n",
    "    user = session.query(udahub.User).filter_by(\n",
    "        account_id=account_id,\n",
    "        external_user_id=ticket_info[\"owner_id\"],\n",
    "    ).first()\n",
    "    \n",
    "    ticket:udahub.Ticket = user.tickets[0]\n",
    "    for message in ticket.messages:\n",
    "        print(message)"
   ]
  },
  {
   "cell_type": "code",
   "execution_count": null,
   "id": "b8628ac9",
   "metadata": {},
   "outputs": [],
   "source": []
  }
 ],
 "metadata": {
  "kernelspec": {
   "display_name": "cd14641 (3.11.10)",
   "language": "python",
   "name": "python3"
  },
  "language_info": {
   "codemirror_mode": {
    "name": "ipython",
    "version": 3
   },
   "file_extension": ".py",
   "mimetype": "text/x-python",
   "name": "python",
   "nbconvert_exporter": "python",
   "pygments_lexer": "ipython3",
   "version": "3.11.10"
  }
 },
 "nbformat": 4,
 "nbformat_minor": 5
}
