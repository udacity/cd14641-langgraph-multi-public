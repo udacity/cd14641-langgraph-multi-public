{
 "cells": [
  {
   "cell_type": "markdown",
   "id": "e70632db",
   "metadata": {},
   "source": [
    "# Exercise - Customer Support - STARTER"
   ]
  },
  {
   "cell_type": "markdown",
   "id": "3cc1c6ae",
   "metadata": {},
   "source": [
    "In this exercise, you will implement a supervisor architecture using LangGraph where a supervisor agent coordinates multiple specialized support agents through tool calls, practicing the handoffs pattern you learned in the demo."
   ]
  },
  {
   "cell_type": "markdown",
   "id": "ad6e027b",
   "metadata": {},
   "source": [
    "**Challenge**\n",
    "\n",
    "You're building a customer support system with a supervisor agent that routes customer inquiries to specialized support agents:\n",
    "- Supervisor Agent: Analyzes customer requests and decides which specialist to call\n",
    "- Technical Support Agent: Handles technical issues and product problems\n",
    "- Billing Support Agent: Manages payment, subscription, and billing questions\n",
    "- General Support Agent: Handles general inquiries and account management\n",
    "- Escalation Agent: Manages complex cases that need human intervention"
   ]
  },
  {
   "cell_type": "markdown",
   "id": "0e51d63c",
   "metadata": {},
   "source": [
    "Your solution should demonstrate:\n",
    "- Supervisor agent making intelligent routing decisions\n",
    "- Tool-calling pattern for agent communication\n",
    "- Proper state management between agents\n",
    "- Clean handoff mechanisms\n",
    "- Scalable multi-agent architecture\n"
   ]
  },
  {
   "cell_type": "markdown",
   "id": "92cdf224",
   "metadata": {},
   "source": [
    "## 0. Import the necessary libs"
   ]
  },
  {
   "cell_type": "code",
   "execution_count": null,
   "id": "c88914e1",
   "metadata": {},
   "outputs": [],
   "source": [
    "import os\n",
    "from typing import Dict, Any, List\n",
    "from IPython.display import Image, display\n",
    "from dotenv import load_dotenv\n",
    "from urllib.parse import urlparse\n",
    "from langchain_core.tools import tool\n",
    "from langchain_openai import ChatOpenAI\n",
    "from langchain_core.messages import (\n",
    "    SystemMessage,\n",
    "    HumanMessage,\n",
    "    AIMessage\n",
    ")\n",
    "from langgraph.graph import START, END, StateGraph\n",
    "from langgraph.graph.message import MessagesState\n",
    "from langgraph.prebuilt import ToolNode\n",
    "from langgraph.prebuilt import create_react_agent\n",
    "from langgraph.checkpoint.memory import MemorySaver\n",
    "from tavily import TavilyClient"
   ]
  },
  {
   "cell_type": "code",
   "execution_count": null,
   "id": "8f654d3d",
   "metadata": {},
   "outputs": [],
   "source": [
    "load_dotenv()"
   ]
  },
  {
   "cell_type": "code",
   "execution_count": null,
   "id": "b358223f",
   "metadata": {},
   "outputs": [],
   "source": [
    "llm = ChatOpenAI(\n",
    "    model=\"gpt-4o-mini\",\n",
    "    temperature=0.0,\n",
    "    base_url=\"https://openai.vocareum.com/v1\",\n",
    "    api_key=os.getenv(\"VOCAREUM_API_KEY\")\n",
    ")"
   ]
  },
  {
   "cell_type": "markdown",
   "id": "3f812e4d",
   "metadata": {},
   "source": [
    "## 1. Create the specialized agents"
   ]
  },
  {
   "cell_type": "markdown",
   "id": "08e8d564",
   "metadata": {},
   "source": [
    "Each agent should have its own tools and system prompt. So, define the tools, agents and their prompt instructions.\n"
   ]
  },
  {
   "cell_type": "code",
   "execution_count": null,
   "id": "0242386c",
   "metadata": {},
   "outputs": [],
   "source": [
    "# TODO: Define the tools\n",
    "@tool\n",
    "def my_tool():\n",
    "    pass"
   ]
  },
  {
   "cell_type": "code",
   "execution_count": null,
   "id": "435a6889",
   "metadata": {},
   "outputs": [],
   "source": [
    "technical_agent = create_react_agent(\n",
    "    # TODO: Implement the agent\n",
    ")"
   ]
  },
  {
   "cell_type": "code",
   "execution_count": null,
   "id": "01e6f81c",
   "metadata": {},
   "outputs": [],
   "source": [
    "billing_agent = create_react_agent(\n",
    "    # TODO: Implement the agent\n",
    ")"
   ]
  },
  {
   "cell_type": "code",
   "execution_count": null,
   "id": "aa5a648d",
   "metadata": {},
   "outputs": [],
   "source": [
    "general_agent = create_react_agent(\n",
    "    # TODO: Implement the agent\n",
    ")"
   ]
  },
  {
   "cell_type": "code",
   "execution_count": null,
   "id": "f27c1f5a",
   "metadata": {},
   "outputs": [],
   "source": [
    "escalation_agent = create_react_agent(\n",
    "    # TODO: Implement the agent\n",
    ")"
   ]
  },
  {
   "cell_type": "markdown",
   "id": "a116d5d4",
   "metadata": {},
   "source": [
    "## 2. Create the supervisor tools"
   ]
  },
  {
   "cell_type": "markdown",
   "id": "13db5e27",
   "metadata": {},
   "source": [
    "Each tool should invoke the corresponding agent and update the state appropriately"
   ]
  },
  {
   "cell_type": "code",
   "execution_count": null,
   "id": "9efbc10f",
   "metadata": {},
   "outputs": [],
   "source": [
    "@tool\n",
    "def route_to_technical(issue_description: str, customer_id: str) -> Dict[str, Any]:\n",
    "    \"\"\"Route technical issues to the technical support specialist.\"\"\"\n",
    "    # TODO: Implement routing logic\n"
   ]
  },
  {
   "cell_type": "code",
   "execution_count": null,
   "id": "44757180",
   "metadata": {},
   "outputs": [],
   "source": [
    "@tool\n",
    "def route_to_billing(billing_question: str, customer_id: str) -> Dict[str, Any]:\n",
    "    \"\"\"Route billing questions to the billing specialist.\"\"\"\n",
    "    # TODO: Implement routing logic"
   ]
  },
  {
   "cell_type": "code",
   "execution_count": null,
   "id": "1bbe0472",
   "metadata": {},
   "outputs": [],
   "source": [
    "# TODO: Add remaining routing tools"
   ]
  },
  {
   "cell_type": "markdown",
   "id": "0aef1423",
   "metadata": {},
   "source": [
    "## 3. Supervisor Agent"
   ]
  },
  {
   "cell_type": "markdown",
   "id": "431972c9",
   "metadata": {},
   "source": [
    "Create the workflow and add nodes and edges\n"
   ]
  },
  {
   "cell_type": "code",
   "execution_count": null,
   "id": "6dc77edb",
   "metadata": {},
   "outputs": [],
   "source": [
    "supervisor_agent = create_react_agent(\n",
    "    name=\"support_supervisor\",\n",
    "    prompt=SystemMessage(\n",
    "        content=(\n",
    "            \"You are a customer support supervisor. Your job is to:\\n\"\n",
    "            \"1. Analyze customer requests\\n\"\n",
    "            \"2. Route them to the appropriate specialist\\n\"\n",
    "            \"3. Ensure proper handoffs between agents\\n\"\n",
    "            \"4. Monitor resolution progress\\n\\n\"\n",
    "            \"Use the routing tools to delegate work appropriately.\"\n",
    "        )\n",
    "    ),\n",
    "    model=llm,\n",
    "    tools=[route_to_technical, route_to_billing, ...],  # TODO: Add all tools\n",
    ")"
   ]
  },
  {
   "cell_type": "markdown",
   "id": "4e533768",
   "metadata": {},
   "source": [
    "## 5. Testing Scenarios"
   ]
  },
  {
   "cell_type": "markdown",
   "id": "4343137d",
   "metadata": {},
   "source": [
    "- Technical issue: \"My app keeps crashing when I try to upload files\"\n",
    "- Billing question: \"Why was I charged twice this month?\"\n",
    "- General inquiry: \"How do I change my account password?\"\n",
    "- Complex case: \"I've tried everything but nothing works\""
   ]
  },
  {
   "cell_type": "code",
   "execution_count": null,
   "id": "b4694969",
   "metadata": {},
   "outputs": [],
   "source": [
    "user_message = HumanMessage(\n",
    "    #TODO: the message as input to your workflow\n",
    "    content = \"\"\n",
    ")\n"
   ]
  },
  {
   "cell_type": "code",
   "execution_count": null,
   "id": "9c00d63a",
   "metadata": {},
   "outputs": [],
   "source": [
    "#TODO: Add all the triggering fields to the input\n",
    "\n",
    "result = supervisor_agent.invoke(\n",
    "    input={\n",
    "        \"messages\": user_message,\n",
    "    }\n",
    ")"
   ]
  },
  {
   "cell_type": "markdown",
   "id": "d40b6c64",
   "metadata": {},
   "source": [
    "## 6. Verify the workflow execution"
   ]
  },
  {
   "cell_type": "markdown",
   "id": "651d6bc0",
   "metadata": {},
   "source": [
    "Check that the state was properly managed throughout the workflow\n"
   ]
  },
  {
   "cell_type": "code",
   "execution_count": null,
   "id": "d3bc64be",
   "metadata": {},
   "outputs": [],
   "source": []
  }
 ],
 "metadata": {
  "kernelspec": {
   "display_name": "cd14641 (3.11.10)",
   "language": "python",
   "name": "python3"
  },
  "language_info": {
   "name": "python",
   "version": "3.11.10"
  }
 },
 "nbformat": 4,
 "nbformat_minor": 5
}
