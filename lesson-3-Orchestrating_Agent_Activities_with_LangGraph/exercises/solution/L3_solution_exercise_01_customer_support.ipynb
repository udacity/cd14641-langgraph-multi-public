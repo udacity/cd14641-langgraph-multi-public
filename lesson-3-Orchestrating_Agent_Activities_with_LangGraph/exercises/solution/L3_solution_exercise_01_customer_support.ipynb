{
 "cells": [
  {
   "cell_type": "markdown",
   "id": "e70632db",
   "metadata": {},
   "source": [
    "# Exercise - Customer Support - SOLUTION"
   ]
  },
  {
   "cell_type": "markdown",
   "id": "3cc1c6ae",
   "metadata": {},
   "source": [
    "In this exercise, you will implement a supervisor architecture using LangGraph where a supervisor agent coordinates multiple specialized support agents through tool calls, practicing the handoffs pattern you learned in the demo."
   ]
  },
  {
   "cell_type": "markdown",
   "id": "ad6e027b",
   "metadata": {},
   "source": [
    "**Challenge**\n",
    "\n",
    "You're building a customer support system with a supervisor agent that routes customer inquiries to specialized support agents:\n",
    "- Supervisor Agent: Analyzes customer requests and decides which specialist to call\n",
    "- Technical Support Agent: Handles technical issues and product problems\n",
    "- Billing Support Agent: Manages payment, subscription, and billing questions\n",
    "- General Support Agent: Handles general inquiries and account management\n",
    "- Escalation Agent: Manages complex cases that need human intervention"
   ]
  },
  {
   "cell_type": "markdown",
   "id": "0e51d63c",
   "metadata": {},
   "source": [
    "Your solution should demonstrate:\n",
    "- Supervisor agent making intelligent routing decisions\n",
    "- Tool-calling pattern for agent communication\n",
    "- Proper state management between agents\n",
    "- Clean handoff mechanisms\n",
    "- Scalable multi-agent architecture\n"
   ]
  },
  {
   "cell_type": "markdown",
   "id": "92cdf224",
   "metadata": {},
   "source": [
    "## 0. Import the necessary libs"
   ]
  },
  {
   "cell_type": "code",
   "execution_count": 1,
   "id": "c88914e1",
   "metadata": {},
   "outputs": [],
   "source": [
    "import os\n",
    "from typing import Dict, Any, List\n",
    "from IPython.display import Image, display\n",
    "from dotenv import load_dotenv\n",
    "from urllib.parse import urlparse\n",
    "from langchain_core.tools import tool\n",
    "from langchain_openai import ChatOpenAI\n",
    "from langchain_core.messages import (\n",
    "    SystemMessage,\n",
    "    HumanMessage,\n",
    "    AIMessage\n",
    ")\n",
    "from langgraph.graph import START, END, StateGraph\n",
    "from langgraph.graph.message import MessagesState\n",
    "from langgraph.prebuilt import ToolNode\n",
    "from langgraph.prebuilt import create_react_agent\n",
    "from langgraph.checkpoint.memory import MemorySaver\n",
    "from tavily import TavilyClient"
   ]
  },
  {
   "cell_type": "code",
   "execution_count": 2,
   "id": "8f654d3d",
   "metadata": {},
   "outputs": [
    {
     "data": {
      "text/plain": [
       "True"
      ]
     },
     "execution_count": 2,
     "metadata": {},
     "output_type": "execute_result"
    }
   ],
   "source": [
    "load_dotenv()"
   ]
  },
  {
   "cell_type": "code",
   "execution_count": 3,
   "id": "b358223f",
   "metadata": {},
   "outputs": [],
   "source": [
    "llm = ChatOpenAI(\n",
    "    model=\"gpt-4o-mini\",\n",
    "    temperature=0.0,\n",
    "    base_url=\"https://openai.vocareum.com/v1\",\n",
    "    api_key=os.getenv(\"VOCAREUM_API_KEY\")\n",
    ")"
   ]
  },
  {
   "cell_type": "markdown",
   "id": "3f812e4d",
   "metadata": {},
   "source": [
    "## 1. Create the specialized agents"
   ]
  },
  {
   "cell_type": "markdown",
   "id": "08e8d564",
   "metadata": {},
   "source": [
    "Each agent should have its own tools and system prompt. So, define the tools, agents and their prompt instructions.\n"
   ]
  },
  {
   "cell_type": "code",
   "execution_count": 4,
   "id": "0242386c",
   "metadata": {},
   "outputs": [],
   "source": [
    "@tool\n",
    "def get_knowledge_base() -> Dict[str, Any]:\n",
    "    \"\"\"Get solutions from the knowledge base for common issues.\"\"\"\n",
    "    solutions = {\n",
    "        \"crash\": \"Try clearing app cache and restarting. If issue persists, check for app updates.\",\n",
    "        \"upload\": \"Ensure file size is under 100MB and format is supported. Check internet connection.\",\n",
    "        \"login\": \"Verify credentials and try password reset if needed.\",\n",
    "        \"performance\": \"Close other apps and restart device. Check available storage space.\",\n",
    "        \"billing\": \"Check your subscription status and payment method. Contact billing support for detailed assistance.\",\n",
    "        \"account\": \"Verify your account settings and try logging out and back in.\",\n",
    "        \"general\": \"I can help you with general account management and basic troubleshooting.\"\n",
    "    }\n",
    "    return solutions\n"
   ]
  },
  {
   "cell_type": "code",
   "execution_count": 5,
   "id": "fabb1121",
   "metadata": {},
   "outputs": [],
   "source": [
    "@tool\n",
    "def check_system_status() -> Dict[str, Any]:\n",
    "    \"\"\"Check current system status and known issues.\"\"\"\n",
    "    return {\n",
    "        \"status\": \"operational\",\n",
    "        \"known_issues\": [],\n",
    "        \"maintenance_scheduled\": False\n",
    "    }"
   ]
  },
  {
   "cell_type": "code",
   "execution_count": 6,
   "id": "3c852657",
   "metadata": {},
   "outputs": [],
   "source": [
    "@tool\n",
    "def get_billing_info(customer_id: str) -> Dict[str, Any]:\n",
    "    \"\"\"Retrieve customer billing information and recent transactions.\"\"\"\n",
    "    # Simulated billing data\n",
    "    return {\n",
    "        \"customer_id\": customer_id,\n",
    "        \"subscription_status\": \"active\",\n",
    "        \"last_payment\": \"2025-12-15\",\n",
    "        \"next_billing\": \"2026-01-15\",\n",
    "        \"amount\": \"$29.99\"\n",
    "    }"
   ]
  },
  {
   "cell_type": "code",
   "execution_count": 7,
   "id": "b5f5577a",
   "metadata": {},
   "outputs": [],
   "source": [
    "@tool\n",
    "def get_account_info(customer_id: str) -> Dict[str, Any]:\n",
    "    \"\"\"Retrieve customer account information.\"\"\"\n",
    "    return {\n",
    "        \"customer_id\": customer_id,\n",
    "        \"account_type\": \"premium\",\n",
    "        \"created_date\": \"2021-07-27\",\n",
    "        \"last_login\": \"2026-01-13\"\n",
    "    }"
   ]
  },
  {
   "cell_type": "code",
   "execution_count": 8,
   "id": "435a6889",
   "metadata": {},
   "outputs": [],
   "source": [
    "technical_agent = create_react_agent(\n",
    "    name=\"technical_support\",\n",
    "    prompt=SystemMessage(\n",
    "        content=(\n",
    "            \"You are a technical support specialist. \"\n",
    "            \"Help customers with technical issues like app crashes, upload problems, performance issues, and login troubles. \"\n",
    "            \"Use the knowledge base to provide accurate solutions. \"\n",
    "            \"Be patient and provide step-by-step instructions. \"\n",
    "            \"If the issue is complex, suggest escalation.\"\n",
    "        )\n",
    "    ),\n",
    "    model=llm,\n",
    "    tools=[get_knowledge_base, check_system_status],\n",
    ")"
   ]
  },
  {
   "cell_type": "code",
   "execution_count": 9,
   "id": "01e6f81c",
   "metadata": {},
   "outputs": [],
   "source": [
    "billing_agent = create_react_agent(\n",
    "    name=\"billing_support\",\n",
    "    prompt=SystemMessage(\n",
    "        content=(\n",
    "            \"You are a billing support specialist. \"\n",
    "            \"Help customers with payment issues, subscription questions, billing disputes, and account upgrades/downgrades. \"\n",
    "            \"Always verify customer identity and provide clear explanations of charges. \"\n",
    "            \"Be empathetic about billing concerns.\"\n",
    "        )\n",
    "    ),\n",
    "    model=llm,\n",
    "    tools=[get_billing_info, get_knowledge_base],\n",
    ")"
   ]
  },
  {
   "cell_type": "code",
   "execution_count": 10,
   "id": "aa5a648d",
   "metadata": {},
   "outputs": [],
   "source": [
    "general_agent = create_react_agent(\n",
    "    name=\"general_support\",\n",
    "    prompt=SystemMessage(\n",
    "        content=(\n",
    "            \"You are a general support specialist. \"\n",
    "            \"Help customers with account management, password changes, general questions, and basic troubleshooting. \"\n",
    "            \"Provide friendly and helpful assistance. \"\n",
    "            \"Route complex technical or billing issues to appropriate specialists.\"\n",
    "        )\n",
    "    ),\n",
    "    model=llm,\n",
    "    tools=[get_account_info, get_knowledge_base],\n",
    ")"
   ]
  },
  {
   "cell_type": "code",
   "execution_count": 11,
   "id": "f27c1f5a",
   "metadata": {},
   "outputs": [],
   "source": [
    "escalation_agent = create_react_agent(\n",
    "    name=\"escalation_support\",\n",
    "    prompt=SystemMessage(\n",
    "        content=(\n",
    "            \"You are an escalation specialist for complex cases. \"\n",
    "            \"Handle cases that require human intervention, complex technical issues, or sensitive billing disputes. \"\n",
    "            \"Acknowledge the customer's frustration and provide a clear path forward. \"\n",
    "            \"Document the case thoroughly for human review.\"\n",
    "        )\n",
    "    ),\n",
    "    model=llm,\n",
    "    tools=[get_knowledge_base, get_account_info, get_billing_info],\n",
    ")"
   ]
  },
  {
   "cell_type": "markdown",
   "id": "a116d5d4",
   "metadata": {},
   "source": [
    "## 2. Create the supervisor tools"
   ]
  },
  {
   "cell_type": "markdown",
   "id": "13db5e27",
   "metadata": {},
   "source": [
    "Each tool should invoke the corresponding agent and update the state appropriately"
   ]
  },
  {
   "cell_type": "code",
   "execution_count": 12,
   "id": "9efbc10f",
   "metadata": {},
   "outputs": [],
   "source": [
    "@tool\n",
    "def route_to_technical(issue_description: str, customer_id: str) -> Dict[str, Any]:\n",
    "    \"\"\"Route technical issues to the technical support specialist.\"\"\"\n",
    "    message = HumanMessage(\n",
    "        content=f\"Customer ID: {customer_id}\\nTechnical Issue: {issue_description}\"\n",
    "    )\n",
    "    \n",
    "    result = technical_agent.invoke(\n",
    "        input={\"messages\": [message]}\n",
    "    )\n",
    "    \n",
    "    last_message: AIMessage = result[\"messages\"][-1]\n",
    "    \n",
    "    return {\n",
    "        \"task\": \"technical_support\",\n",
    "        \"customer_id\": customer_id,\n",
    "        \"issue\": issue_description,\n",
    "        \"response\": last_message.content,\n",
    "        \"status\": \"resolved\"\n",
    "    }"
   ]
  },
  {
   "cell_type": "code",
   "execution_count": 13,
   "id": "44757180",
   "metadata": {},
   "outputs": [],
   "source": [
    "@tool\n",
    "def route_to_billing(billing_question: str, customer_id: str) -> Dict[str, Any]:\n",
    "    \"\"\"Route billing questions to the billing specialist.\"\"\"\n",
    "    message = HumanMessage(\n",
    "        content=f\"Customer ID: {customer_id}\\nBilling Question: {billing_question}\"\n",
    "    )\n",
    "    \n",
    "    result = billing_agent.invoke(\n",
    "        input={\"messages\": [message]}\n",
    "    )\n",
    "    \n",
    "    last_message: AIMessage = result[\"messages\"][-1]\n",
    "    \n",
    "    return {\n",
    "        \"task\": \"billing_support\",\n",
    "        \"customer_id\": customer_id,\n",
    "        \"question\": billing_question,\n",
    "        \"response\": last_message.content,\n",
    "        \"status\": \"resolved\"\n",
    "    }"
   ]
  },
  {
   "cell_type": "code",
   "execution_count": 14,
   "id": "1bbe0472",
   "metadata": {},
   "outputs": [],
   "source": [
    "@tool\n",
    "def route_to_general(general_inquiry: str, customer_id: str) -> Dict[str, Any]:\n",
    "    \"\"\"Route general inquiries to the general support specialist.\"\"\"\n",
    "    message = HumanMessage(\n",
    "        content=f\"Customer ID: {customer_id}\\nGeneral Inquiry: {general_inquiry}\"\n",
    "    )\n",
    "    \n",
    "    result = general_agent.invoke(\n",
    "        input={\"messages\": [message]}\n",
    "    )\n",
    "    \n",
    "    last_message: AIMessage = result[\"messages\"][-1]\n",
    "    \n",
    "    return {\n",
    "        \"task\": \"general_support\",\n",
    "        \"customer_id\": customer_id,\n",
    "        \"inquiry\": general_inquiry,\n",
    "        \"response\": last_message.content,\n",
    "        \"status\": \"resolved\"\n",
    "    }"
   ]
  },
  {
   "cell_type": "code",
   "execution_count": 15,
   "id": "063c8b50",
   "metadata": {},
   "outputs": [],
   "source": [
    "@tool\n",
    "def route_to_escalation(complex_case: str, customer_id: str) -> Dict[str, Any]:\n",
    "    \"\"\"Route complex cases to the escalation specialist.\"\"\"\n",
    "    message = HumanMessage(\n",
    "        content=f\"Customer ID: {customer_id}\\nComplex Case: {complex_case}\"\n",
    "    )\n",
    "    \n",
    "    result = escalation_agent.invoke(\n",
    "        input={\"messages\": [message]}\n",
    "    )\n",
    "    \n",
    "    last_message: AIMessage = result[\"messages\"][-1]\n",
    "    \n",
    "    return {\n",
    "        \"task\": \"escalation\",\n",
    "        \"customer_id\": customer_id,\n",
    "        \"case\": complex_case,\n",
    "        \"response\": last_message.content,\n",
    "        \"status\": \"escalated\"\n",
    "    }"
   ]
  },
  {
   "cell_type": "markdown",
   "id": "0aef1423",
   "metadata": {},
   "source": [
    "## 3. Supervisor Agent"
   ]
  },
  {
   "cell_type": "markdown",
   "id": "431972c9",
   "metadata": {},
   "source": [
    "Create the workflow and add nodes and edges\n"
   ]
  },
  {
   "cell_type": "code",
   "execution_count": 16,
   "id": "6dc77edb",
   "metadata": {},
   "outputs": [],
   "source": [
    "supervisor_agent = create_react_agent(\n",
    "    name=\"support_supervisor\",\n",
    "    prompt=SystemMessage(\n",
    "        content=(\n",
    "            \"You are a customer support supervisor. Your job is to:\\n\"\n",
    "            \"1. Analyze customer requests and determine the appropriate specialist\\n\"\n",
    "            \"2. Route them to the correct support agent using the routing tools\\n\"\n",
    "            \"3. Ensure proper handoffs between agents\\n\"\n",
    "            \"4. Monitor resolution progress\\n\\n\"\n",
    "            \"Routing guidelines:\\n\"\n",
    "            \"- Technical issues (crashes, uploads, performance, login): use route_to_technical\\n\"\n",
    "            \"- Billing questions (payments, subscriptions, charges): use route_to_billing\\n\"\n",
    "            \"- General inquiries (account management, passwords): use route_to_general\\n\"\n",
    "            \"- Complex cases requiring human intervention: use route_to_escalation\\n\\n\"\n",
    "            \"Always include the customer_id when routing. Use the tools to delegate work appropriately.\"\n",
    "        )\n",
    "    ),\n",
    "    model=llm,\n",
    "    tools=[route_to_technical, route_to_billing, route_to_general, route_to_escalation],\n",
    "    checkpointer=MemorySaver()\n",
    ")"
   ]
  },
  {
   "cell_type": "markdown",
   "id": "4e533768",
   "metadata": {},
   "source": [
    "## 5. Testing Scenarios"
   ]
  },
  {
   "cell_type": "markdown",
   "id": "4343137d",
   "metadata": {},
   "source": [
    "- Technical issue: \"My app keeps crashing when I try to upload files\"\n",
    "- Billing question: \"Why was I charged twice this month?\"\n",
    "- General inquiry: \"How do I change my account password?\"\n",
    "- Complex case: \"I've tried everything but nothing works\""
   ]
  },
  {
   "cell_type": "code",
   "execution_count": 17,
   "id": "e98ce8b3",
   "metadata": {},
   "outputs": [],
   "source": [
    "user_messages = [\n",
    "    \"Why was I charged twice this month?\",\n",
    "    \"Ok. One more thing: my app keeps crashing when I try to upload files.\",\n",
    "    \"I've already tried everything but nothing works\"\n",
    "]"
   ]
  },
  {
   "cell_type": "code",
   "execution_count": 18,
   "id": "9c00d63a",
   "metadata": {},
   "outputs": [],
   "source": [
    "for user_message in user_messages:\n",
    "    result = supervisor_agent.invoke(\n",
    "        input={\n",
    "            \"messages\": [\n",
    "                SystemMessage(content=\"Customer ID: CUST123\"),\n",
    "                HumanMessage(content=user_message),\n",
    "            ]\n",
    "        },\n",
    "        config={\n",
    "            \"configurable\": {\n",
    "                \"thread_id\": \"S-12345\",\n",
    "            }\n",
    "        }\n",
    "    )"
   ]
  },
  {
   "cell_type": "markdown",
   "id": "d40b6c64",
   "metadata": {},
   "source": [
    "## 6. Verify the workflow execution"
   ]
  },
  {
   "cell_type": "markdown",
   "id": "651d6bc0",
   "metadata": {},
   "source": [
    "Check that the state was properly managed throughout the workflow\n"
   ]
  },
  {
   "cell_type": "code",
   "execution_count": 19,
   "id": "d3bc64be",
   "metadata": {},
   "outputs": [
    {
     "name": "stdout",
     "output_type": "stream",
     "text": [
      "================================\u001b[1m System Message \u001b[0m================================\n",
      "\n",
      "Customer ID: CUST123\n",
      "================================\u001b[1m Human Message \u001b[0m=================================\n",
      "\n",
      "Why was I charged twice this month?\n",
      "==================================\u001b[1m Ai Message \u001b[0m==================================\n",
      "Name: support_supervisor\n",
      "Tool Calls:\n",
      "  route_to_billing (call_kfbzv0QudKMF3GDgN6N0EbUH)\n",
      " Call ID: call_kfbzv0QudKMF3GDgN6N0EbUH\n",
      "  Args:\n",
      "    billing_question: charged twice this month\n",
      "    customer_id: CUST123\n",
      "=================================\u001b[1m Tool Message \u001b[0m=================================\n",
      "Name: route_to_billing\n",
      "\n",
      "{\"task\": \"billing_support\", \"customer_id\": \"CUST123\", \"question\": \"charged twice this month\", \"response\": \"I understand your concern about being charged twice this month. Let me clarify your billing details:\\n\\n- Your last payment was processed on December 15, 2025, for the amount of $29.99.\\n- Your next billing is scheduled for January 15, 2026.\\n\\nIt appears that you have only one charge this month. If you believe there is an error or if you see another charge on your account, please check your bank statement or provide me with more details about the second charge, and I can assist you further.\", \"status\": \"resolved\"}\n",
      "==================================\u001b[1m Ai Message \u001b[0m==================================\n",
      "Name: support_supervisor\n",
      "\n",
      "I have routed your billing question regarding the double charge to our billing specialist. They have clarified that you were only charged once this month, on December 15, 2025, for $29.99, and your next billing is scheduled for January 15, 2026. \n",
      "\n",
      "If you believe there is an error or if you see another charge on your account, please check your bank statement or provide more details about the second charge, and we can assist you further.\n",
      "================================\u001b[1m System Message \u001b[0m================================\n",
      "\n",
      "Customer ID: CUST123\n",
      "================================\u001b[1m Human Message \u001b[0m=================================\n",
      "\n",
      "Ok. One more thing: my app keeps crashing when I try to upload files.\n",
      "==================================\u001b[1m Ai Message \u001b[0m==================================\n",
      "Name: support_supervisor\n",
      "Tool Calls:\n",
      "  route_to_technical (call_zzWd99emqB3U3B5iRVD8OkI3)\n",
      " Call ID: call_zzWd99emqB3U3B5iRVD8OkI3\n",
      "  Args:\n",
      "    issue_description: app keeps crashing when trying to upload files\n",
      "    customer_id: CUST123\n",
      "=================================\u001b[1m Tool Message \u001b[0m=================================\n",
      "Name: route_to_technical\n",
      "\n",
      "{\"task\": \"technical_support\", \"customer_id\": \"CUST123\", \"issue\": \"app keeps crashing when trying to upload files\", \"response\": \"It sounds like you're experiencing an issue with the app crashing during file uploads. Let's try to resolve this step-by-step:\\n\\n1. **Clear App Cache**:\\n   - Go to your device's **Settings**.\\n   - Find **Apps** or **Application Manager**.\\n   - Locate the app that's crashing.\\n   - Tap on **Storage**.\\n   - Select **Clear Cache**.\\n\\n2. **Check File Size and Format**:\\n   - Ensure that the file you are trying to upload is under 100MB.\\n   - Verify that the file format is supported by the app.\\n\\n3. **Check Internet Connection**:\\n   - Make sure you have a stable internet connection. You can try switching between Wi-Fi and mobile data to see if that helps.\\n\\n4. **Restart the App**:\\n   - Close the app completely and then reopen it.\\n\\n5. **Update the App**:\\n   - Check if there are any updates available for the app in your device's app store and install them.\\n\\nIf the app continues to crash after following these steps, please let me know, and we can escalate the issue for further assistance.\", \"status\": \"resolved\"}\n",
      "==================================\u001b[1m Ai Message \u001b[0m==================================\n",
      "Name: support_supervisor\n",
      "\n",
      "I have routed your technical issue regarding the app crashing during file uploads to our technical support specialist. They provided the following steps to help resolve the issue:\n",
      "\n",
      "1. **Clear App Cache**:\n",
      "   - Go to your device's **Settings**.\n",
      "   - Find **Apps** or **Application Manager**.\n",
      "   - Locate the app that's crashing.\n",
      "   - Tap on **Storage**.\n",
      "   - Select **Clear Cache**.\n",
      "\n",
      "2. **Check File Size and Format**:\n",
      "   - Ensure that the file you are trying to upload is under 100MB.\n",
      "   - Verify that the file format is supported by the app.\n",
      "\n",
      "3. **Check Internet Connection**:\n",
      "   - Make sure you have a stable internet connection. You can try switching between Wi-Fi and mobile data to see if that helps.\n",
      "\n",
      "4. **Restart the App**:\n",
      "   - Close the app completely and then reopen it.\n",
      "\n",
      "5. **Update the App**:\n",
      "   - Check if there are any updates available for the app in your device's app store and install them.\n",
      "\n",
      "If the app continues to crash after following these steps, please let me know, and we can escalate the issue for further assistance.\n",
      "================================\u001b[1m System Message \u001b[0m================================\n",
      "\n",
      "Customer ID: CUST123\n",
      "================================\u001b[1m Human Message \u001b[0m=================================\n",
      "\n",
      "I've already tried everything but nothing works\n",
      "==================================\u001b[1m Ai Message \u001b[0m==================================\n",
      "Name: support_supervisor\n",
      "Tool Calls:\n",
      "  route_to_escalation (call_iu8xmVmyHU6UhLLqhqEywrsp)\n",
      " Call ID: call_iu8xmVmyHU6UhLLqhqEywrsp\n",
      "  Args:\n",
      "    complex_case: app keeps crashing when trying to upload files despite following troubleshooting steps\n",
      "    customer_id: CUST123\n",
      "=================================\u001b[1m Tool Message \u001b[0m=================================\n",
      "Name: route_to_escalation\n",
      "\n",
      "{\"task\": \"escalation\", \"customer_id\": \"CUST123\", \"case\": \"app keeps crashing when trying to upload files despite following troubleshooting steps\", \"response\": \"I understand how frustrating it can be when an app keeps crashing, especially after you've already tried troubleshooting steps. Let's work together to resolve this issue.\\n\\n### Current Situation:\\n- **Customer ID**: CUST123\\n- **Account Type**: Premium\\n- **Last Login**: January 13, 2026\\n\\n### Troubleshooting Steps Taken:\\nYou mentioned that you've followed some troubleshooting steps. Here are some additional suggestions based on common issues related to app crashes during file uploads:\\n\\n1. **Clear App Cache**: Sometimes, clearing the app cache can resolve crashing issues. You can do this through your device settings.\\n2. **Check for App Updates**: Ensure that you have the latest version of the app installed. Updates often include bug fixes.\\n3. **File Size and Format**: Make sure that the files you are trying to upload are under 100MB and in a supported format.\\n4. **Internet Connection**: A stable internet connection is crucial for uploads. Please check your connection.\\n5. **Device Performance**: Close any other apps running in the background and restart your device. Also, check if you have enough available storage space.\\n\\n### Next Steps:\\nIf the issue persists after trying these steps, I recommend the following:\\n- **Contact Technical Support**: Since this is a complex issue, it may require further investigation by our technical team. I can escalate this case for you.\\n- **Documenting the Case**: I will document this case thoroughly for human review to ensure that the technical team has all the necessary information.\\n\\nWould you like me to proceed with escalating this case to technical support?\", \"status\": \"escalated\"}\n",
      "==================================\u001b[1m Ai Message \u001b[0m==================================\n",
      "Name: support_supervisor\n",
      "\n",
      "I have escalated your case regarding the app crashing during file uploads to our escalation specialist. They understand how frustrating this can be, especially after trying the troubleshooting steps.\n",
      "\n",
      "### Current Situation:\n",
      "- **Customer ID**: CUST123\n",
      "- **Account Type**: Premium\n",
      "- **Last Login**: January 13, 2026\n",
      "\n",
      "### Troubleshooting Steps Taken:\n",
      "You mentioned that you've followed some troubleshooting steps. Here are some additional suggestions based on common issues related to app crashes during file uploads:\n",
      "1. **Clear App Cache**: Sometimes, clearing the app cache can resolve crashing issues.\n",
      "2. **Check for App Updates**: Ensure that you have the latest version of the app installed.\n",
      "3. **File Size and Format**: Make sure that the files you are trying to upload are under 100MB and in a supported format.\n",
      "4. **Internet Connection**: A stable internet connection is crucial for uploads.\n",
      "5. **Device Performance**: Close any other apps running in the background and restart your device. Also, check if you have enough available storage space.\n",
      "\n",
      "### Next Steps:\n",
      "If the issue persists after trying these steps, the technical team will investigate further. They will reach out to you for more information and assistance.\n",
      "\n",
      "Thank you for your patience, and we will work to resolve this issue as quickly as possible.\n"
     ]
    }
   ],
   "source": [
    "for message in result[\"messages\"]:\n",
    "    message.pretty_print()"
   ]
  },
  {
   "cell_type": "code",
   "execution_count": null,
   "id": "b567b38e",
   "metadata": {},
   "outputs": [],
   "source": []
  }
 ],
 "metadata": {
  "kernelspec": {
   "display_name": "cd14641 (3.11.10)",
   "language": "python",
   "name": "python3"
  },
  "language_info": {
   "codemirror_mode": {
    "name": "ipython",
    "version": 3
   },
   "file_extension": ".py",
   "mimetype": "text/x-python",
   "name": "python",
   "nbconvert_exporter": "python",
   "pygments_lexer": "ipython3",
   "version": "3.11.10"
  }
 },
 "nbformat": 4,
 "nbformat_minor": 5
}
