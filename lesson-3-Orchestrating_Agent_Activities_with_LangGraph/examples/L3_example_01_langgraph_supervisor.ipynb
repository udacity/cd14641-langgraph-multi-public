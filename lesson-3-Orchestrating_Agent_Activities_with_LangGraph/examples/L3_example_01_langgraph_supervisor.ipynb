{
 "cells": [
  {
   "cell_type": "markdown",
   "id": "5f1824a7",
   "metadata": {},
   "source": [
    "## 0. Setup"
   ]
  },
  {
   "cell_type": "code",
   "execution_count": 1,
   "id": "7d26866b",
   "metadata": {},
   "outputs": [],
   "source": [
    "import os\n",
    "from typing import Dict, Any\n",
    "from IPython.display import Image, display\n",
    "from dotenv import load_dotenv\n",
    "from langchain_core.tools import tool\n",
    "from langchain_openai import ChatOpenAI\n",
    "from langchain_core.messages import SystemMessage, HumanMessage, AIMessage\n",
    "from langgraph.graph.message import MessagesState\n",
    "from langgraph.prebuilt import create_react_agent\n",
    "from langgraph_supervisor import create_supervisor"
   ]
  },
  {
   "cell_type": "code",
   "execution_count": 2,
   "id": "3cfa2033",
   "metadata": {},
   "outputs": [
    {
     "data": {
      "text/plain": [
       "True"
      ]
     },
     "execution_count": 2,
     "metadata": {},
     "output_type": "execute_result"
    }
   ],
   "source": [
    "load_dotenv()"
   ]
  },
  {
   "cell_type": "code",
   "execution_count": 3,
   "id": "53363851",
   "metadata": {},
   "outputs": [],
   "source": [
    "llm = ChatOpenAI(\n",
    "    model=\"gpt-4o-mini\",\n",
    "    temperature=0.0,\n",
    "    base_url=\"https://openai.vocareum.com/v1\",\n",
    "    api_key=os.getenv(\"VOCAREUM_API_KEY\")\n",
    ")"
   ]
  },
  {
   "cell_type": "markdown",
   "id": "4d1ee664",
   "metadata": {},
   "source": [
    "## 1. Sub Agents"
   ]
  },
  {
   "cell_type": "code",
   "execution_count": 4,
   "id": "5b79802b",
   "metadata": {},
   "outputs": [],
   "source": [
    "research_worker = create_react_agent(\n",
    "    name=\"research_worker\",\n",
    "    prompt=SystemMessage(\n",
    "        content=(\n",
    "            \"You are a research specialist. Given a topic, find key information. \"\n",
    "            \"Return ONLY JSON with: keywords, sources.\"\n",
    "        )\n",
    "    ),\n",
    "    model=llm,\n",
    "    tools=[],\n",
    ")"
   ]
  },
  {
   "cell_type": "code",
   "execution_count": 5,
   "id": "b3e3c77f",
   "metadata": {},
   "outputs": [],
   "source": [
    "writing_worker = create_react_agent(\n",
    "    name=\"writing_worker\",\n",
    "    prompt=SystemMessage(\n",
    "        content=(\n",
    "            \"You are a content writer. \" \n",
    "            \"Given research keywords, write clear and concise content. \"\n",
    "            \"Return ONLY JSON with: content, summary.\"\n",
    "        )\n",
    "    ),\n",
    "    model=llm,\n",
    "    tools=[],\n",
    ")"
   ]
  },
  {
   "cell_type": "markdown",
   "id": "4c9629a6",
   "metadata": {},
   "source": [
    "## 2. Orchestrator"
   ]
  },
  {
   "cell_type": "code",
   "execution_count": 6,
   "id": "64a410eb",
   "metadata": {},
   "outputs": [],
   "source": [
    "supervisor_agent = create_supervisor(\n",
    "    model=llm,\n",
    "    agents=[research_worker, writing_worker],\n",
    "    prompt=SystemMessage(\n",
    "        content=(\n",
    "            \"You are a task supervisor. When given a request:\\n\"\n",
    "            \"1. First call research_worker to gather information\\n\"\n",
    "            \"2. Then call writing_worker to create content based on the research\\n\"\n",
    "            \"3. Combine everything into a final response\\n\\n\"\n",
    "            \"Call the agents in this order: research_worker → writing_worker\"\n",
    "        )\n",
    "    ),\n",
    "    add_handoff_back_messages=True,\n",
    "    output_mode=\"last_message\",\n",
    ").compile()"
   ]
  },
  {
   "cell_type": "code",
   "execution_count": 7,
   "id": "3b4ba26d",
   "metadata": {},
   "outputs": [
    {
     "data": {
      "image/png": "[encoded data removed]",
      "text/plain": [
       "<IPython.core.display.Image object>"
      ]
     },
     "metadata": {},
     "output_type": "display_data"
    }
   ],
   "source": [
    "display(\n",
    "    Image(\n",
    "        supervisor_agent.get_graph().draw_mermaid_png()\n",
    "    )\n",
    ")"
   ]
  },
  {
   "cell_type": "markdown",
   "id": "5eb90f8a",
   "metadata": {},
   "source": [
    "## 4. Run"
   ]
  },
  {
   "cell_type": "code",
   "execution_count": null,
   "id": "90bc13e4",
   "metadata": {},
   "outputs": [],
   "source": [
    "result = supervisor_agent.invoke(\n",
    "    input={\n",
    "        \"messages\": [\n",
    "            HumanMessage(\n",
    "                content=\"topic machine learning basics\"\n",
    "            )\n",
    "        ]\n",
    "    }\n",
    ")"
   ]
  },
  {
   "cell_type": "code",
   "execution_count": null,
   "id": "185e39c3",
   "metadata": {},
   "outputs": [],
   "source": [
    "for message in result[\"messages\"]:\n",
    "    message.pretty_print()"
   ]
  },
  {
   "cell_type": "markdown",
   "id": "3081cd00",
   "metadata": {},
   "source": [
    "## 5. Hierarchical"
   ]
  },
  {
   "cell_type": "code",
   "execution_count": null,
   "id": "e5616b69",
   "metadata": {},
   "outputs": [],
   "source": [
    "team_1 = create_supervisor(\n",
    "    agents=[\n",
    "        create_react_agent(name=\"agent_1\", model=llm, tools=[]), \n",
    "        create_react_agent(name=\"agent_2\", model=llm, tools=[]), \n",
    "    ],\n",
    "    model=llm,\n",
    "    supervisor_name=\"supervisor_1\"\n",
    ").compile(name=\"team_1\")\n",
    "\n",
    "team_2 = create_supervisor(\n",
    "    agents=[\n",
    "        create_react_agent(name=\"agent_3\", model=llm, tools=[]), \n",
    "        create_react_agent(name=\"agent_4\", model=llm, tools=[]), \n",
    "    ],\n",
    "    model=llm,\n",
    "    supervisor_name=\"supervisor_2\"\n",
    ").compile(name=\"team_2\")\n",
    "\n",
    "\n",
    "top_level_supervisor = create_supervisor(\n",
    "    agents=[team_1, team_2],\n",
    "    model=llm,\n",
    "    supervisor_name=\"top_level_supervisor\"\n",
    ").compile(name=\"top_level_supervisor\")"
   ]
  },
  {
   "cell_type": "code",
   "execution_count": 14,
   "id": "db32192a",
   "metadata": {},
   "outputs": [
    {
     "data": {
      "image/png": "[encoded data removed]",
      "text/plain": [
       "<IPython.core.display.Image object>"
      ]
     },
     "metadata": {},
     "output_type": "display_data"
    }
   ],
   "source": [
    "display(\n",
    "    Image(\n",
    "        top_level_supervisor.get_graph().draw_mermaid_png()\n",
    "    )\n",
    ")"
   ]
  },
  {
   "cell_type": "code",
   "execution_count": null,
   "id": "21df7bc6",
   "metadata": {},
   "outputs": [],
   "source": []
  }
 ],
 "metadata": {
  "kernelspec": {
   "display_name": "cd14641 (3.11.10)",
   "language": "python",
   "name": "python3"
  },
  "language_info": {
   "codemirror_mode": {
    "name": "ipython",
    "version": 3
   },
   "file_extension": ".py",
   "mimetype": "text/x-python",
   "name": "python",
   "nbconvert_exporter": "python",
   "pygments_lexer": "ipython3",
   "version": "3.11.10"
  }
 },
 "nbformat": 4,
 "nbformat_minor": 5
}
