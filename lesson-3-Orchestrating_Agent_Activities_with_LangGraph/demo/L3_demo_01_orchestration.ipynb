{
 "cells": [
  {
   "cell_type": "markdown",
   "id": "5f1824a7",
   "metadata": {},
   "source": [
    "## 0. Setup"
   ]
  },
  {
   "cell_type": "code",
   "execution_count": 1,
   "id": "7d26866b",
   "metadata": {},
   "outputs": [],
   "source": [
    "import os\n",
    "from typing import Dict, Any\n",
    "from dotenv import load_dotenv\n",
    "from langchain_core.tools import tool\n",
    "from langchain_openai import ChatOpenAI\n",
    "from langchain_core.messages import SystemMessage, HumanMessage, AIMessage\n",
    "from langgraph.graph.message import MessagesState\n",
    "from langgraph.prebuilt import create_react_agent"
   ]
  },
  {
   "cell_type": "code",
   "execution_count": 2,
   "id": "3cfa2033",
   "metadata": {},
   "outputs": [
    {
     "data": {
      "text/plain": [
       "True"
      ]
     },
     "execution_count": 2,
     "metadata": {},
     "output_type": "execute_result"
    }
   ],
   "source": [
    "load_dotenv()"
   ]
  },
  {
   "cell_type": "code",
   "execution_count": 3,
   "id": "53363851",
   "metadata": {},
   "outputs": [],
   "source": [
    "llm = ChatOpenAI(\n",
    "    model=\"gpt-4o-mini\",\n",
    "    temperature=0.0,\n",
    "    base_url=\"https://openai.vocareum.com/v1\",\n",
    "    api_key=os.getenv(\"VOCAREUM_API_KEY\")\n",
    ")"
   ]
  },
  {
   "cell_type": "markdown",
   "id": "4d1ee664",
   "metadata": {},
   "source": [
    "## 1. Sub Agents"
   ]
  },
  {
   "cell_type": "code",
   "execution_count": 4,
   "id": "5b79802b",
   "metadata": {},
   "outputs": [],
   "source": [
    "research_worker = create_react_agent(\n",
    "    name=\"research_worker\",\n",
    "    prompt=SystemMessage(\n",
    "        content=(\n",
    "            \"You are a research specialist. Given a topic, find key information. \"\n",
    "            \"Return ONLY JSON with: keywords, sources.\"\n",
    "        )\n",
    "    ),\n",
    "    model=llm,\n",
    "    tools=[],\n",
    ")"
   ]
  },
  {
   "cell_type": "code",
   "execution_count": 5,
   "id": "5ff409a5",
   "metadata": {},
   "outputs": [
    {
     "data": {
      "text/plain": [
       "langgraph.graph.state.CompiledStateGraph"
      ]
     },
     "execution_count": 5,
     "metadata": {},
     "output_type": "execute_result"
    }
   ],
   "source": [
    "type(research_worker)"
   ]
  },
  {
   "cell_type": "code",
   "execution_count": 6,
   "id": "4a13853d",
   "metadata": {},
   "outputs": [
    {
     "data": {
      "image/png": "[encoded data removed]",
      "text/plain": [
       "<langgraph.graph.state.CompiledStateGraph object at 0x107f36250>"
      ]
     },
     "execution_count": 6,
     "metadata": {},
     "output_type": "execute_result"
    }
   ],
   "source": [
    "research_worker"
   ]
  },
  {
   "cell_type": "code",
   "execution_count": 7,
   "id": "b3e3c77f",
   "metadata": {},
   "outputs": [],
   "source": [
    "writing_worker = create_react_agent(\n",
    "    name=\"writing_worker\",\n",
    "    prompt=SystemMessage(\n",
    "        content=(\n",
    "            \"You are a content writer. \" \n",
    "            \"Given research keywords, write clear and concise content. \"\n",
    "            \"Return ONLY JSON with: content, summary.\"\n",
    "        )\n",
    "    ),\n",
    "    model=llm,\n",
    "    tools=[],\n",
    ")"
   ]
  },
  {
   "cell_type": "markdown",
   "id": "16575c70",
   "metadata": {},
   "source": [
    "## 2. Handoff Tools"
   ]
  },
  {
   "cell_type": "code",
   "execution_count": 8,
   "id": "352877bc",
   "metadata": {},
   "outputs": [],
   "source": [
    "@tool\n",
    "def call_researcher(topic: str) -> Dict[str, Any]:\n",
    "    \"\"\"Ask the research worker to find information about a topic.\"\"\"\n",
    "    message = HumanMessage(content=f\"Research this topic: {topic}\")\n",
    "    \n",
    "    result = research_worker.invoke(\n",
    "        input={\"messages\": [message]}\n",
    "    )\n",
    "    \n",
    "    last_message: AIMessage = result[\"messages\"][-1]\n",
    "    \n",
    "    # Simple parsing (could use structured output for production)\n",
    "    return {\n",
    "        \"task\": \"research\",\n",
    "        \"topic\": topic,\n",
    "        \"results\": last_message.content\n",
    "    }"
   ]
  },
  {
   "cell_type": "code",
   "execution_count": 9,
   "id": "c77ccbf1",
   "metadata": {},
   "outputs": [],
   "source": [
    "@tool\n",
    "def call_writer(research_keywords: str) -> Dict[str, Any]:\n",
    "    \"\"\"Ask the writing worker to create content based on research.\"\"\"\n",
    "    message = HumanMessage(\n",
    "        content=f\"Write a concise content based on these keywords: {research_keywords}\"\n",
    "    )\n",
    "    \n",
    "    result = writing_worker.invoke(\n",
    "        input={\"messages\": [message]}\n",
    "    )\n",
    "    \n",
    "    last_message:AIMessage = result[\"messages\"][-1]\n",
    "    \n",
    "    return {\n",
    "        \"task\": \"writing\",\n",
    "        \"research\": research_keywords,\n",
    "        \"results\": last_message.content\n",
    "    }"
   ]
  },
  {
   "cell_type": "markdown",
   "id": "4c9629a6",
   "metadata": {},
   "source": [
    "## 3. Orchestrator"
   ]
  },
  {
   "cell_type": "code",
   "execution_count": 10,
   "id": "01a36732",
   "metadata": {},
   "outputs": [],
   "source": [
    "supervisor_agent = create_react_agent(\n",
    "    name=\"supervisor_agent\",\n",
    "    prompt=SystemMessage(\n",
    "        content=(\n",
    "            \"You are a task supervisor. When given a request:\\n\"\n",
    "            \"1. First use research_topic to gather information\\n\"\n",
    "            \"2. Then use write_content to create content based on the research\\n\"\n",
    "            \"3. Combine everything into a final response\\n\\n\"\n",
    "            \"Use the tools in this order: research_topic → write_content\"\n",
    "        )\n",
    "    ),\n",
    "    model=llm,\n",
    "    tools=[call_researcher, call_writer],\n",
    ")"
   ]
  },
  {
   "cell_type": "markdown",
   "id": "5eb90f8a",
   "metadata": {},
   "source": [
    "## 4. Run"
   ]
  },
  {
   "cell_type": "code",
   "execution_count": 11,
   "id": "90bc13e4",
   "metadata": {},
   "outputs": [],
   "source": [
    "result = supervisor_agent.invoke(\n",
    "    input={\n",
    "        \"messages\": [\n",
    "            HumanMessage(\n",
    "                content=\"topic machine learning basics\"\n",
    "            )\n",
    "        ]\n",
    "    }\n",
    ")"
   ]
  },
  {
   "cell_type": "code",
   "execution_count": 12,
   "id": "185e39c3",
   "metadata": {},
   "outputs": [
    {
     "name": "stdout",
     "output_type": "stream",
     "text": [
      "================================\u001b[1m Human Message \u001b[0m=================================\n",
      "\n",
      "topic machine learning basics\n",
      "==================================\u001b[1m Ai Message \u001b[0m==================================\n",
      "Name: supervisor_agent\n",
      "Tool Calls:\n",
      "  call_researcher (call_HgQkNHn88Bi09IMIlL2WIacE)\n",
      " Call ID: call_HgQkNHn88Bi09IMIlL2WIacE\n",
      "  Args:\n",
      "    topic: machine learning basics\n",
      "=================================\u001b[1m Tool Message \u001b[0m=================================\n",
      "Name: call_researcher\n",
      "\n",
      "{\"task\": \"research\", \"topic\": \"machine learning basics\", \"results\": \"{\\n  \\\"keywords\\\": [\\n    \\\"machine learning\\\",\\n    \\\"supervised learning\\\",\\n    \\\"unsupervised learning\\\",\\n    \\\"reinforcement learning\\\",\\n    \\\"algorithms\\\",\\n    \\\"data preprocessing\\\",\\n    \\\"model training\\\",\\n    \\\"overfitting\\\",\\n    \\\"underfitting\\\",\\n    \\\"neural networks\\\",\\n    \\\"decision trees\\\",\\n    \\\"support vector machines\\\",\\n    \\\"feature selection\\\",\\n    \\\"cross-validation\\\",\\n    \\\"evaluation metrics\\\"\\n  ],\\n  \\\"sources\\\": [\\n    \\\"https://www.coursera.org/learn/machine-learning\\\",\\n    \\\"https://www.edx.org/course/machine-learning-introduction\\\",\\n    \\\"https://www.kaggle.com/learn/overview\\\",\\n    \\\"https://www.ibm.com/cloud/learn/machine-learning\\\",\\n    \\\"https://towardsdatascience.com/machine-learning-basics-101-1f1c1c1e1c1e\\\",\\n    \\\"https://www.analyticsvidhya.com/blog/2020/10/understanding-machine-learning-algorithms/\\\",\\n    \\\"https://www.sciencedirect.com/topics/computer-science/machine-learning\\\",\\n    \\\"https://www.geeksforgeeks.org/machine-learning-introduction/\\\"\\n  ]\\n}\"}\n",
      "==================================\u001b[1m Ai Message \u001b[0m==================================\n",
      "Name: supervisor_agent\n",
      "Tool Calls:\n",
      "  call_writer (call_lA097TRIFctsZ7TRfovAx4ir)\n",
      " Call ID: call_lA097TRIFctsZ7TRfovAx4ir\n",
      "  Args:\n",
      "    research_keywords: machine learning, supervised learning, unsupervised learning, reinforcement learning, algorithms, data preprocessing, model training, overfitting, underfitting, neural networks, decision trees, support vector machines, feature selection, cross-validation, evaluation metrics\n",
      "=================================\u001b[1m Tool Message \u001b[0m=================================\n",
      "Name: call_writer\n",
      "\n",
      "{\"task\": \"writing\", \"research\": \"machine learning, supervised learning, unsupervised learning, reinforcement learning, algorithms, data preprocessing, model training, overfitting, underfitting, neural networks, decision trees, support vector machines, feature selection, cross-validation, evaluation metrics\", \"results\": \"{\\n  \\\"content\\\": \\\"Machine learning is a subset of artificial intelligence that enables systems to learn from data and improve over time. It is broadly categorized into three types: supervised learning, unsupervised learning, and reinforcement learning. Supervised learning involves training a model on labeled data, while unsupervised learning deals with unlabeled data to find hidden patterns. Reinforcement learning focuses on training agents to make decisions through trial and error. Key algorithms in machine learning include neural networks, decision trees, and support vector machines. Data preprocessing is crucial for preparing raw data for analysis, involving steps like cleaning, normalization, and feature selection. Model training is the process of teaching a machine learning model using training data, where overfitting and underfitting are common challenges. Overfitting occurs when a model learns noise in the training data, while underfitting happens when it fails to capture the underlying trend. Cross-validation is a technique used to assess how the results of a statistical analysis will generalize to an independent dataset. Finally, evaluation metrics such as accuracy, precision, recall, and F1 score are essential for measuring the performance of machine learning models.\\\",\\n  \\\"summary\\\": \\\"Machine learning encompasses supervised, unsupervised, and reinforcement learning, utilizing algorithms like neural networks and decision trees. Key processes include data preprocessing, model training, and addressing overfitting and underfitting. Cross-validation and evaluation metrics are vital for assessing model performance.\\\"\\n}\"}\n",
      "==================================\u001b[1m Ai Message \u001b[0m==================================\n",
      "Name: supervisor_agent\n",
      "\n",
      "### Machine Learning Basics\n",
      "\n",
      "Machine learning is a subset of artificial intelligence that enables systems to learn from data and improve over time. It is broadly categorized into three types:\n",
      "\n",
      "1. **Supervised Learning**: This involves training a model on labeled data, where the input data is paired with the correct output. The model learns to map inputs to outputs based on this training.\n",
      "\n",
      "2. **Unsupervised Learning**: In this approach, the model works with unlabeled data to find hidden patterns or intrinsic structures. It is often used for clustering and association tasks.\n",
      "\n",
      "3. **Reinforcement Learning**: This type focuses on training agents to make decisions through trial and error, receiving rewards or penalties based on their actions.\n",
      "\n",
      "### Key Concepts and Processes\n",
      "\n",
      "- **Algorithms**: Common algorithms in machine learning include neural networks, decision trees, and support vector machines. Each has its strengths and is suited for different types of problems.\n",
      "\n",
      "- **Data Preprocessing**: This is crucial for preparing raw data for analysis. It involves steps like cleaning (removing noise and inconsistencies), normalization (scaling data), and feature selection (choosing relevant variables).\n",
      "\n",
      "- **Model Training**: This is the process of teaching a machine learning model using training data. During this phase, the model learns to make predictions or decisions based on the input data.\n",
      "\n",
      "- **Overfitting and Underfitting**: These are common challenges in model training. Overfitting occurs when a model learns noise in the training data, leading to poor generalization on new data. Underfitting happens when the model fails to capture the underlying trend, resulting in poor performance.\n",
      "\n",
      "- **Cross-Validation**: This technique is used to assess how the results of a statistical analysis will generalize to an independent dataset. It helps in validating the model's performance.\n",
      "\n",
      "- **Evaluation Metrics**: Metrics such as accuracy, precision, recall, and F1 score are essential for measuring the performance of machine learning models. They provide insights into how well the model is performing and where improvements can be made.\n",
      "\n",
      "### Summary\n",
      "\n",
      "Machine learning encompasses supervised, unsupervised, and reinforcement learning, utilizing algorithms like neural networks and decision trees. Key processes include data preprocessing, model training, and addressing overfitting and underfitting. Cross-validation and evaluation metrics are vital for assessing model performance.\n",
      "\n",
      "For further reading, you can explore resources from:\n",
      "- [Coursera](https://www.coursera.org/learn/machine-learning)\n",
      "- [edX](https://www.edx.org/course/machine-learning-introduction)\n",
      "- [Kaggle](https://www.kaggle.com/learn/overview)\n",
      "- [IBM](https://www.ibm.com/cloud/learn/machine-learning)\n",
      "- [Towards Data Science](https://towardsdatascience.com/machine-learning-basics-101-1f1c1c1e1c1e)\n",
      "- [Analytics Vidhya](https://www.analyticsvidhya.com/blog/2020/10/understanding-machine-learning-algorithms/)\n",
      "- [GeeksforGeeks](https://www.geeksforgeeks.org/machine-learning-introduction/)\n"
     ]
    }
   ],
   "source": [
    "for message in result[\"messages\"]:\n",
    "    message.pretty_print()"
   ]
  },
  {
   "cell_type": "code",
   "execution_count": null,
   "id": "d81f0170",
   "metadata": {},
   "outputs": [],
   "source": []
  }
 ],
 "metadata": {
  "kernelspec": {
   "display_name": "cd14641 (3.11.10)",
   "language": "python",
   "name": "python3"
  },
  "language_info": {
   "codemirror_mode": {
    "name": "ipython",
    "version": 3
   },
   "file_extension": ".py",
   "mimetype": "text/x-python",
   "name": "python",
   "nbconvert_exporter": "python",
   "pygments_lexer": "ipython3",
   "version": "3.11.10"
  }
 },
 "nbformat": 4,
 "nbformat_minor": 5
}
