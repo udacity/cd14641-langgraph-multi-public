{
 "cells": [
  {
   "cell_type": "markdown",
   "id": "7f05319f",
   "metadata": {},
   "source": [
    "# Exercise - Multi-Agent Architecture Design - STARTER"
   ]
  },
  {
   "cell_type": "markdown",
   "id": "3cf47008",
   "metadata": {},
   "source": [
    "In this exercise, you will design a multi-agent system architecture for a real-world scenario, choosing between orchestrator and peer-to-peer patterns, and implementing the chosen design."
   ]
  },
  {
   "cell_type": "markdown",
   "id": "0116c835",
   "metadata": {},
   "source": [
    "**Challenge**\n",
    "\n",
    "You're building a multi-agent system for a real-world business process. You need to analyze\n",
    "the requirements, choose the appropriate architecture pattern, and implement a working prototype that demonstrates your design decisions.\n",
    "\n",
    "Your solution should:\n",
    "1. Define a clear business scenario with specific requirements\n",
    "2. Identify agent roles and responsibilities\n",
    "3. Choose between orchestrator (supervisor/hierarchical) or peer-to-peer (pipeline/network) patterns\n",
    "4. Design the data flow and communication protocols\n",
    "5. Implement a working prototype using LangGraph\n",
    "6. Create a visual diagram of your architecture\n"
   ]
  },
  {
   "cell_type": "markdown",
   "id": "965c1c6e",
   "metadata": {},
   "source": [
    "## 0. Import the necessary libs"
   ]
  },
  {
   "cell_type": "code",
   "execution_count": null,
   "id": "f6eef18e",
   "metadata": {},
   "outputs": [],
   "source": [
    "from typing import Literal, TypedDict\n",
    "import random\n",
    "from IPython.display import Image, display\n",
    "from langgraph.graph import START, END, StateGraph\n",
    "from langgraph.graph.message import MessagesState\n",
    "from langgraph.types import Command"
   ]
  },
  {
   "cell_type": "markdown",
   "id": "232e7d64",
   "metadata": {},
   "source": [
    "## 1. Define Your Business Scenario"
   ]
  },
  {
   "cell_type": "markdown",
   "id": "4720d249",
   "metadata": {},
   "source": [
    "Choose ONE of these scenarios or create your own:\n",
    "\n",
    "- **(A)** Customer Support Ticket System\n",
    "- **(B)** E-commerce Order Processing\n",
    "- **(C)** Content Creation Pipeline\n",
    "- **(D)** Healthcare Appointment System"
   ]
  },
  {
   "cell_type": "markdown",
   "id": "5e0c2232",
   "metadata": {},
   "source": [
    "`TODO`: Write down all the details of your scenario:\n",
    "\n",
    "..."
   ]
  },
  {
   "cell_type": "markdown",
   "id": "b4b55de5",
   "metadata": {},
   "source": []
  },
  {
   "cell_type": "markdown",
   "id": "96d4cb4c",
   "metadata": {},
   "source": [
    "## 2. Define Agent Roles and Responsibilities"
   ]
  },
  {
   "cell_type": "markdown",
   "id": "0c62a2d1",
   "metadata": {},
   "source": [
    "`TODO`: For your chosen scenario, define 4-6 agents with specific responsibilities:\n",
    "\n",
    "..."
   ]
  },
  {
   "cell_type": "markdown",
   "id": "5998ebc1",
   "metadata": {},
   "source": []
  },
  {
   "cell_type": "markdown",
   "id": "fe5942ea",
   "metadata": {},
   "source": [
    "## 3. Choose Your Architecture Pattern"
   ]
  },
  {
   "cell_type": "markdown",
   "id": "6c651af5",
   "metadata": {},
   "source": [
    "A) ORCHESTRATOR PATTERN (Supervisor or Hierarchical)\n",
    "- Use when: You need centralized control, strict workflow order, or complex state management\n",
    "- Best for: Structured workflows where order matters, complex business processes\n",
    "\n",
    "B) PEER-TO-PEER PATTERN (Pipeline or Network)\n",
    "- Use when: You need flexibility, agents can work independently, or dynamic routing\n",
    "- Best for: Flexible workflows, independent agent operations, dynamic decision-making"
   ]
  },
  {
   "cell_type": "markdown",
   "id": "19f2acb1",
   "metadata": {},
   "source": [
    "`TODO`: Based on your scenario requirements, choose ONE pattern and explain it:\n",
    "\n",
    "Pattern: _________________________________________________________\n",
    "\n",
    "Reasoning: _________________________________________________________\n",
    "\n",
    "Data Flow: _________________________________________________________\n"
   ]
  },
  {
   "cell_type": "markdown",
   "id": "810fdae1",
   "metadata": {},
   "source": []
  },
  {
   "cell_type": "markdown",
   "id": "2c80e86d",
   "metadata": {},
   "source": [
    "## 4. Draw Your Multi-Agent System"
   ]
  },
  {
   "cell_type": "markdown",
   "id": "442ba966",
   "metadata": {},
   "source": [
    "`TODO`: Create your agents and workflow based on your chosen pattern and draw a visual representation of your multi-agent system:"
   ]
  },
  {
   "cell_type": "code",
   "execution_count": null,
   "id": "9347277c",
   "metadata": {},
   "outputs": [],
   "source": [
    "# If using ORCHESTRATOR PATTERN:\n",
    "def supervisor(state: MessagesState) -> Command[Literal[\"agent1\", END]]:\n",
    "    # Your supervisor logic here\n",
    "    pass\n",
    "\n",
    "def agent1(state: MessagesState) -> Command[Literal[\"supervisor\", END]]:\n",
    "    # Your agent1 logic here\n",
    "    pass"
   ]
  },
  {
   "cell_type": "code",
   "execution_count": null,
   "id": "71a53983",
   "metadata": {},
   "outputs": [],
   "source": [
    "# If using PEER-TO-PEER PATTERN:\n",
    "def agent1(state: MessagesState) -> Command[Literal[\"agent2\"]]:\n",
    "    # Your agent1 logic here\n",
    "    pass\n",
    "\n",
    "def agent2(state: MessagesState) -> Command[Literal[END]]:\n",
    "    # Your agent2 logic here\n",
    "    pass"
   ]
  },
  {
   "cell_type": "code",
   "execution_count": null,
   "id": "725e4b2e",
   "metadata": {},
   "outputs": [],
   "source": [
    "workflow = StateGraph(MessagesState)\n",
    "# Add your nodes and edges here"
   ]
  },
  {
   "cell_type": "code",
   "execution_count": null,
   "id": "63f725ee",
   "metadata": {},
   "outputs": [],
   "source": [
    "# Compile and visualize:\n",
    "graph = workflow.compile()\n",
    "display(Image(graph.get_graph().draw_mermaid_png()))"
   ]
  },
  {
   "cell_type": "markdown",
   "id": "92de1741",
   "metadata": {},
   "source": [
    "## 5. Reflection Questions"
   ]
  },
  {
   "cell_type": "markdown",
   "id": "87129da0",
   "metadata": {},
   "source": [
    "Answer these questions about your design:\n",
    "1. Why did you choose your architecture pattern?\n",
    "2. What are the main advantages of your chosen pattern for this scenario?\n",
    "3. What challenges might you face with this architecture?\n",
    "4. How would you modify your system if requirements changed?"
   ]
  },
  {
   "cell_type": "code",
   "execution_count": null,
   "id": "236f0291",
   "metadata": {},
   "outputs": [],
   "source": []
  }
 ],
 "metadata": {
  "kernelspec": {
   "display_name": "cd14641 (3.11.10)",
   "language": "python",
   "name": "python3"
  },
  "language_info": {
   "name": "python",
   "version": "3.11.10"
  }
 },
 "nbformat": 4,
 "nbformat_minor": 5
}
